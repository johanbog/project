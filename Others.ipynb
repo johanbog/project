{
 "cells": [
  {
   "cell_type": "code",
   "execution_count": 15,
   "metadata": {
    "collapsed": false
   },
   "outputs": [
    {
     "data": {
      "text/plain": [
       "[<matplotlib.lines.Line2D at 0x26d679599e8>]"
      ]
     },
     "execution_count": 15,
     "metadata": {},
     "output_type": "execute_result"
    },
    {
     "data": {
      "image/png": "[encoded data removed]",
      "text/plain": [
       "<matplotlib.figure.Figure at 0x26d67905940>"
      ]
     },
     "metadata": {},
     "output_type": "display_data"
    }
   ],
   "source": [
    "import numpy as np\n",
    "%matplotlib inline\n",
    "import matplotlib.pyplot as plt\n",
    "arr=(np.ones(100*100)*np.linspace(0,1,100*100)).reshape(100,100)\n",
    "\n",
    "arr,e=np.histogram(arr,16)\n",
    "# arr=arr.reshape()\n",
    "# print(arr)\n",
    "# print(e.shape)\n",
    "plt.close('r')\n",
    "plt.figure('r')\n",
    "plt.imshow(e[:-1].reshape(4,4),interpolation='none')\n",
    "plt.plot([-0.5,3.5],[1.8,1.8],'k')\n",
    "plt.plot([1.8,1.8],[-.5,3.5],'k')"
   ]
  }
 ],
 "metadata": {
  "anaconda-cloud": {},
  "kernelspec": {
   "display_name": "Python [conda root]",
   "language": "python",
   "name": "conda-root-py"
  },
  "language_info": {
   "codemirror_mode": {
    "name": "ipython",
    "version": 3
   },
   "file_extension": ".py",
   "mimetype": "text/x-python",
   "name": "python",
   "nbconvert_exporter": "python",
   "pygments_lexer": "ipython3",
   "version": "3.5.2"
  }
 },
 "nbformat": 4,
 "nbformat_minor": 1
}
