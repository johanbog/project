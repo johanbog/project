{
 "cells": [
  {
   "cell_type": "code",
   "execution_count": 1,
   "metadata": {
    "collapsed": false
   },
   "outputs": [],
   "source": [
    "%load_ext autoreload\n",
    "%autoreload 2\n",
    "import hyperspy.api as hs\n",
    "%matplotlib qt4\n",
    "import matplotlib.pyplot as plt\n",
    "import numpy as np\n",
    "from hyperspy.zeta import *\n",
    "\n",
    "# s=hs.load('/home/johannes/Desktop/Link to Documents/Materialfysikk/Data/unheated/A_EDS Spectrum Image.dm3')\n",
    "# s2=hs.load('/home/johannes/Desktop/Link to Documents/Materialfysikk/Data/unheated/A_EDS GaAs.hdf5')\n",
    "# s2.plot()"
   ]
  },
  {
   "cell_type": "code",
   "execution_count": 34,
   "metadata": {
    "collapsed": false
   },
   "outputs": [],
   "source": [
    "# s=hs.load('/home/johannes/Desktop/Link to Documents/Materialfysikk/Data/unheated/HAADF_300k.dm3')\n",
    "plt.figure()\n",
    "plt.imshow(s.data)\n",
    "plt.show()\n"
   ]
  },
  {
   "cell_type": "markdown",
   "metadata": {},
   "source": [
    "## Determine thickness"
   ]
  },
  {
   "cell_type": "code",
   "execution_count": 2,
   "metadata": {
    "collapsed": false
   },
   "outputs": [
    {
     "name": "stdout",
     "output_type": "stream",
     "text": [
      "121.975335121\n"
     ]
    }
   ],
   "source": [
    "# thickness_map_left=hs.load('/home/johannes/Desktop/Link to Documents/Materialfysikk/Data/unheated/Thickness Map_leftSide.dm3')\n",
    "thickness_map=hs.load('../../Data/unheated/Thickness Map.dm3')\n",
    "l = 104 # From Andreas\n",
    "thickness = thickness_map.isig[100.:200.,70.:190.].data.mean()*l\n",
    "print(thickness)"
   ]
  },
  {
   "cell_type": "code",
   "execution_count": null,
   "metadata": {
    "collapsed": false
   },
   "outputs": [],
   "source": [
    "s=hs.load('/home/johannes/Desktop/Link to Documents/Materialfysikk/Data/unheated/B_EDS Spectrum Image.dm3')\n",
    "s.save('/home/johannes/Desktop/Link to Documents/Materialfysikk/Data/unheated/B_EDS Spectrum Image.hdf5')\n",
    "# s.inav[:,8.:68.].save('/home/johannes/Desktop/Link to Documents/Materialfysikk/Data/unheated/B_EDS_1.hdf5')\n",
    "# s.inav[:,80.:200.].save('/home/johannes/Desktop/Link to Documents/Materialfysikk/Data/unheated/B_EDS_2.hdf5')\n",
    "# s.inav[:,220.:280.].save('/home/johannes/Desktop/Link to Documents/Materialfysikk/Data/unheated/B_EDS_3.hdf5')\n",
    "# scrop=s.inav[40.0:200.0, 0.:100.]\n",
    "# scrop.save('/home/johannes/Desktop/Link to Documents/Materialfysikk/Data/unheated/A_EDS GaAs.hdf5')\n",
    "\n",
    "# s_B1=hs.load('/home/johannes/Desktop/Link to Documents/Materialfysikk/Data/unheated/B_EDS_1.hdf5')\n",
    "# s_B2=hs.load('/home/johannes/Desktop/Link to Documents/Materialfysikk/Data/unheated/B_EDS_2.hdf5')\n",
    "# s_B3=hs.load('/home/johannes/Desktop/Link to Documents/Materialfysikk/Data/unheated/B_EDS_3.hdf5')"
   ]
  },
  {
   "cell_type": "code",
   "execution_count": null,
   "metadata": {
    "collapsed": true
   },
   "outputs": [],
   "source": [
    "s_B1.sum('x').sum('y').plot() # E = Pd\n",
    "s_B2.sum('x').sum('y').plot() # D = Ge\n",
    "s_B3.sum('x').sum('y').plot() # C = Au"
   ]
  },
  {
   "cell_type": "code",
   "execution_count": 41,
   "metadata": {
    "collapsed": false,
    "scrolled": false
   },
   "outputs": [
    {
     "name": "stdout",
     "output_type": "stream",
     "text": [
      "The autoreload extension is already loaded. To reload it, use:\n",
      "  %reload_ext autoreload\n",
      "['As', 'Ga']\n",
      "zeta 706.458581674\n",
      "zeta 607.860488895\n"
     ]
    },
    {
     "name": "stderr",
     "output_type": "stream",
     "text": [
      "/usr/local/lib/python3.5/dist-packages/matplotlib/__init__.py:898: UserWarning: axes.color_cycle is deprecated and replaced with axes.prop_cycle; please use the latter.\n",
      "  warnings.warn(self.msg_depr % (key, alt_key))\n"
     ]
    },
    {
     "name": "stdout",
     "output_type": "stream",
     "text": [
      "['Au']\n",
      "zeta 2396.59596395\n",
      "['Ge']\n",
      "zeta 741.158422611\n",
      "['Pd']\n",
      "zeta 1248.39804784\n",
      "['Pd']\n",
      "zeta 1318.41635454\n",
      "['Ge']\n",
      "zeta 731.862546929\n"
     ]
    },
    {
     "name": "stderr",
     "output_type": "stream",
     "text": [
      "/usr/local/lib/python3.5/dist-packages/matplotlib/__init__.py:898: UserWarning: axes.color_cycle is deprecated and replaced with axes.prop_cycle; please use the latter.\n",
      "  warnings.warn(self.msg_depr % (key, alt_key))\n"
     ]
    },
    {
     "name": "stdout",
     "output_type": "stream",
     "text": [
      "['Au']\n",
      "zeta 2387.42319189\n"
     ]
    }
   ],
   "source": [
    "%load_ext autoreload\n",
    "%autoreload 2\n",
    "\n",
    "plt.close('all')\n",
    "IW = 1.2\n",
    "tilt = -np.sqrt(2.3**2+.6**2)\n",
    "\n",
    "probe_current= [(0.1769+.1747)/2, .1747, .1747,.17485,.175,.175,(.175+.1731)/2,.17325,np.mean([.1734,.1703]),np.mean([.1703,.1728]),.1747,.1747,.1747]\n",
    "\n",
    "p_GaAs = 5317.6\n",
    "p_Au = hs.material.elements.Au.Physical_properties.density_gcm3*1000\n",
    "p_Ge = hs.material.elements.Ge.Physical_properties.density_gcm3*1000\n",
    "p_Pd = hs.material.elements.Pd.Physical_properties.density_gcm3*1000\n",
    " \n",
    "# s_A = hs.load('/home/johannes/Desktop/Link to Documents/Materialfysikk/Data/unheated/A_EDS GaAs.hdf5')\n",
    "# # a_A1 = hs.load('/home/johannes/Desktop/Link to Documents/Materialfysikk/Data/unheated/A_EDS Ge.hdf5')\n",
    "# # a_A2 = hs.load('/home/johannes/Desktop/Link to Documents/Materialfysikk/Data/unheated/A_EDS Pd.hdf5')\n",
    "# s_C = hs.load('/home/johannes/Desktop/Link to Documents/Materialfysikk/Data/unheated/C_EDS Spectrum Image.dm3')\n",
    "# s_D = hs.load('/home/johannes/Desktop/Link to Documents/Materialfysikk/Data/unheated/D_EDS Spectrum Image.dm3')\n",
    "# s_E = hs.load('/home/johannes/Desktop/Link to Documents/Materialfysikk/Data/unheated/E_EDS Spectrum Image.dm3')\n",
    "# s_B1=hs.load('/home/johannes/Desktop/Link to Documents/Materialfysikk/Data/unheated/B_EDS_1.hdf5')\n",
    "# s_B2=hs.load('/home/johannes/Desktop/Link to Documents/Materialfysikk/Data/unheated/B_EDS_2.hdf5')\n",
    "# s_B3=hs.load('/home/johannes/Desktop/Link to Documents/Materialfysikk/Data/unheated/B_EDS_3.hdf5')\n",
    "\n",
    "# e=s_C.sum('x').sum('y')\n",
    "# e.add_elements(['Au'])\n",
    "# e.add_lines()\n",
    "# BW_C = np.array([[9.25, 9.45,10.1,10.3]])\n",
    "# e.plot(background_windows=BW_C)\n",
    "# return\n",
    "\n",
    "s=[s_A,s_C,s_D,s_E,s_B1,s_B2,s_B3]\n",
    "\n",
    "elements = [['As','Ga'],['Au'],['Ge'],['Pd'],['Pd'],['Ge'],['Au']]\n",
    "# elements = [['Au'],['Au']]\n",
    "density_list=[p_GaAs,p_Au,p_Ge,p_Pd,p_Pd,p_Ge,p_Au]\n",
    "# density_list=[p_Au,p_Au]\n",
    "\n",
    "BW_A = np.array([[ 9.79,9.99, 11.09, 11.29],[ 8.47,8.66,9.67,9.86]])\n",
    "BW_C = np.array([[9.25, 9.45,10.1,10.3]])\n",
    "BW_D = np.array([[9.4,9.6,10.2,10.4]])\n",
    "BW_E = np.array([[2.2,2.4,3.7,3.9]])\n",
    "BW_C=[[1.88,1.96,3.7,3.9]] #gold M-line\n",
    "bw_list=[BW_A,BW_C,BW_D,BW_E,BW_E,BW_D,BW_C]\n",
    "# bw_list=[BW_C,BW_C]\n",
    "\n",
    "\n",
    "COMP_GA_AS_WT=(hs.material.atomic_to_weight([.5,.5],['As','Ga'])/100)\n",
    "comp_list = [COMP_GA_AS_WT, [1],[1],[1],[1],[1],[1]]\n",
    "time = [.01, .1, .1, .1, .01, .01, .01]\n",
    "\n",
    "lines=[['As_Ka','Ga_Ka'],['Au_Ma'],['Ge_Ka'],['Pd_La'],['Pd_La'],['Ge_Ka'],['Au_Ma'] ]\n",
    "# lines=['Au_Ma']\n",
    "\n",
    "# for edx in [s_C,s_B3]:\n",
    "#     time = edx.data.shape[0]*edx.data.shape[1]*0.01\n",
    "#     edx=edx.sum('x').sum('y')\n",
    "#     edx.add_elements(['Au'])\n",
    "#     edx.add_lines(lines)\n",
    "#     edx.plot(background_windows=BW5)\n",
    "#     edx.set_microscope_parameters(beam_current=.1747, tilt_stage=tilt, real_time=time, elevation_angle=24.3, azimuth_angle=0.0)\n",
    "#     s_int=edx.get_lines_intensity(background_windows=BW5, integration_windows=IW,plot_result=0)\n",
    "    \n",
    "#     zeta = determine_zeta_factor(edx, s_int, [1], thickness, p_Au)\n",
    "\n",
    "#     for z in zeta:\n",
    "#         print('zeta',np.nanmean(z.data.flatten()))\n",
    "# return\n",
    "    \n",
    "for edx, current, density, element,bw, comp, t, line \\\n",
    "in zip(s,probe_current, density_list, elements,bw_list,comp_list, time, lines):\n",
    "#     if element[0] is not 'Ge':\n",
    "#         continue\n",
    "#     print(element, thickness, current, density, bw)\n",
    "#     edx.plot()\n",
    "#     time=t\n",
    "    time = edx.data.shape[0]*edx.data.shape[1]*t\n",
    "    \n",
    "#     print('time',time)\n",
    "    \n",
    "    edx=edx.sum('x').sum('y')\n",
    "    edx.add_elements(element)\n",
    "#     print(line)\n",
    "#     if type(line) != list:\n",
    "#         line=[line]\n",
    "    edx.add_lines(line)\n",
    "#     edx.add_lines()\n",
    "#     plt.figure(str(element))\n",
    "#     edx.plot()\n",
    "#     print(edx.metadata)\n",
    "    if element[0] == 'Au':\n",
    "        edx.plot(background_windows=bw)\n",
    "#     print(edx.metadata)\n",
    "    \n",
    "    edx.set_microscope_parameters(beam_current=current, tilt_stage=tilt, real_time=time, elevation_angle=24.3, azimuth_angle=0.0)\n",
    "    s_int=edx.get_lines_intensity(background_windows=bw, integration_windows=IW,plot_result=0)\n",
    "    \n",
    "    zeta = determine_zeta_factor(edx, s_int, comp, thickness, density)\n",
    "    print(element)\n",
    "    for z in zeta:\n",
    "        print('zeta',np.nanmean(z.data.flatten()))"
   ]
  },
  {
   "cell_type": "markdown",
   "metadata": {},
   "source": [
    "### zeta factors"
   ]
  },
  {
   "cell_type": "code",
   "execution_count": 42,
   "metadata": {
    "collapsed": true
   },
   "outputs": [],
   "source": [
    "As=1412.91716335\n",
    "Ga=1215.72097779\n",
    "# Ga_l=1626.12587259\n",
    "\n",
    "Au1=6945.31059159\n",
    "Au2=7245.99584755\n",
    "\n",
    "Ge1=1482.31684522\n",
    "# Ge1_l=1791.73734361\n",
    "Ge2=1463.72509386\n",
    "\n",
    "Pd1=2496.79609568 # This is Pd_l, not Pd_m\n",
    "Pd2=2636.83270908\n",
    "\n",
    "kAu_l=4.892\n",
    "kGe_k=2.617\n",
    "# kPd_m=3.825\n",
    "\n",
    "kGa_k=2.4919\n",
    "# kGa_l=4.719\n",
    "kAs_k=2.835\n",
    "# kAs_l=4.315"
   ]
  },
  {
   "cell_type": "markdown",
   "metadata": {},
   "source": [
    "## New zeta factors (0.1, 0.01 seconds)"
   ]
  },
  {
   "cell_type": "code",
   "execution_count": 7,
   "metadata": {
    "collapsed": false
   },
   "outputs": [],
   "source": [
    "\n",
    "As= 706.458581674\n",
    "Ga= 607.860488895\n",
    "\n",
    "Au1= 3472.6552958\n",
    "\n",
    "# Ge1= 741.158422611\n",
    "\n",
    "Pd1= 1248.39804784\n",
    "\n",
    "Pd2= 1318.41635454\n",
    "\n",
    "Ge2= 731.862546929\n",
    "\n",
    "Au2= 3450.47421312\n",
    "\n",
    "AuM=np.mean(2387,2397) #2387 2396"
   ]
  },
  {
   "cell_type": "code",
   "execution_count": 31,
   "metadata": {
    "collapsed": false,
    "scrolled": true
   },
   "outputs": [
    {
     "name": "stdout",
     "output_type": "stream",
     "text": [
      "('Ga', 'As')\n",
      "k 0.8789770723104056\n",
      "z 0.853046594982\n",
      "('Ga', 'Au')\n",
      "k 0.64423474663909\n",
      "z 0.248278739829\n",
      "('Ga', 'Ge')\n",
      "k 0.9521971723347343\n",
      "z 0.803692030617\n",
      "('As', 'Au')\n",
      "k 0.7329369183040331\n",
      "z 0.29104944711\n",
      "('As', 'Ge')\n",
      "k 1.0833014902560183\n",
      "z 0.942143178748\n",
      "('Au', 'Ge')\n",
      "k 1.4780282766526556\n",
      "z 3.23705538046\n"
     ]
    }
   ],
   "source": [
    "\n",
    "from itertools import combinations\n",
    "element=['Ga','As','Au','Ge']\n",
    "zeta=[Ga,As,AuM,Ge]\n",
    "kfact=[kGa_k,kAs_k,kAu_m,kGe_k]\n",
    "mydict = dict()\n",
    "for e,z,k in zip(element,zeta,kfact):\n",
    "    mydict[e]={}\n",
    "    mydict[e]['k']=k\n",
    "    mydict[e]['z']=z\n",
    "for p in combinations(element,2):\n",
    "    print(p)\n",
    "    for i in ['k','z']:\n",
    "        print(i, mydict[p[0]][i]/mydict[p[1]][i])"
   ]
  },
  {
   "cell_type": "markdown",
   "metadata": {},
   "source": [
    "#### Make zeta-k-value plots"
   ]
  },
  {
   "cell_type": "code",
   "execution_count": 51,
   "metadata": {
    "collapsed": false
   },
   "outputs": [
    {
     "name": "stdout",
     "output_type": "stream",
     "text": [
      "[ 1.2442577   1.17226891  2.15686275  4.02016807]\n"
     ]
    },
    {
     "data": {
      "text/plain": [
       "<matplotlib.text.Text at 0x7f0d9929c2b0>"
      ]
     },
     "execution_count": 51,
     "metadata": {},
     "output_type": "execute_result"
    }
   ],
   "source": [
    "As=[689,706]\n",
    "Ga=[582,608]\n",
    "Ge=[732,741,748]\n",
    "Pd=[1248,1284,1318]\n",
    "Au=[2387, 2397]\n",
    "zeta = [Ga,As,Ge,Pd,Au]\n",
    "\n",
    "kAu_m=3.868\n",
    "kGe_k=2.617\n",
    "kPd_m=3.825\n",
    "kGa_k=2.4919\n",
    "kAs_k=2.835\n",
    "kfact = np.array([kGe_k,kAs_k,kPd_m,kAu_m])/kGa_k\n",
    "\n",
    "zetamin = np.array([min(Ge),min(As),min(Pd),min(Au)])/max(Ga)\n",
    "zetamax = np.array([max(Ge),max(As),max(Pd),max(Au)])/min(Ga)\n",
    "zetamean = np.array([np.mean(Ge),np.mean(As),np.mean(Pd),np.mean(Au)])/np.mean(Ga)\n",
    "print(zetamean)\n",
    "plt.close('all')\n",
    "plt.figure(' ')\n",
    "x=np.arange(4)/10\n",
    "plt.errorbar(x, zetamean, yerr=np.abs(zetamean-np.array([zetamin,zetamax])), fmt='ro')\n",
    "plt.hold(True)\n",
    "plt.plot(x,kfact,'bo')\n",
    "plt.xticks(x,['Ge','As','Pd','Au'])\n",
    "plt.xlim([-.03,.33])\n",
    "plt.legend(['K-factors','Zeta-factors'],loc='best')\n",
    "plt.xlabel('Element')\n",
    "plt.ylabel('Value relative to Ga')"
   ]
  },
  {
   "cell_type": "code",
   "execution_count": 3,
   "metadata": {
    "collapsed": false
   },
   "outputs": [],
   "source": [
    "import glob\n",
    "import hyperspy.api as hs\n",
    "%matplotlib qt4\n",
    "import matplotlib.pyplot as plt\n",
    "PATH='/home/johannes/Desktop/Link to Data/160506_SC239_X/'\n",
    "PATH='/home/johannes/Desktop/Link to Data/unheated/'\n",
    "p=glob.glob(PATH+'*Survey Image (active)*')\n",
    "for r in p:\n",
    "    s=hs.load(r)\n",
    "    plt.figure(r),plt.imshow(s.data)\n"
   ]
  },
  {
   "cell_type": "markdown",
   "metadata": {},
   "source": [
    "# Quantification"
   ]
  },
  {
   "cell_type": "code",
   "execution_count": 6,
   "metadata": {
    "collapsed": false
   },
   "outputs": [
    {
     "name": "stderr",
     "output_type": "stream",
     "text": [
      "C:\\Users\\Johannes\\AppData\\Local\\Continuum\\Anaconda3\\lib\\site-packages\\matplotlib\\__init__.py:898: UserWarning: axes.color_cycle is deprecated and replaced with axes.prop_cycle; please use the latter.\n",
      "  warnings.warn(self.msg_depr % (key, alt_key))\n"
     ]
    }
   ],
   "source": [
    "# # Non-heat treated\n",
    "# s=hs.load('/home/johannes/Desktop/Link to Documents/Materialfysikk/Data/unheated/A_EDS Spectrum Image.hdf5')\n",
    "# s=s.inav[60.:180.,:]\n",
    "s=hs.load('../../Data/unheated/A_EDS Spectrum Image_60-180.hdf5')\n",
    "# return\n",
    "# s.plot()\n",
    "# return\n",
    "# s=hs.load('/home/johannes/Desktop/Link to Documents/Materialfysikk/Data/unheated/B_EDS Spectrum Image.hdf5')\n",
    "    # # s.plot()\n",
    "    # # s.change_dtype('float')\n",
    "    # # s.decomposition()\n",
    "    # # s.get_decomposition_model(6)\n",
    "    # # s.save('/home/johannes/Desktop/Link to Documents/Materialfysikk/Data/unheated/A_EDS Spectrum Image.hdf5')\n",
    "# # plt.close('all')\n",
    "from scipy.signal import cspline1d as spline\n",
    "probe_current= [(0.1769+.1747)/2, .1747, .1747,.17485,.175,.175,(.175+.1731)/2,.17325,np.mean([.1734,.1703]),np.mean([.1703,.1728]),.1747,.1747,.1747]\n",
    "# BW1 = np.array([9.79,9.99, 11.09, 11.29])\n",
    "BW1=[8.3,8.6,11.2,11.3]\n",
    "# BW2=np.array([8.47,8.66,9.67,9.86])\n",
    "BW2=[8.57,8.67,11.2,11.3]\n",
    "# BW3= np.array([9.25, 9.45,10.1,10.3])\n",
    "BW3=BW2\n",
    "# BW4 = np.array([9.4,9.6,10.2,10.4])\n",
    "# BW4=[8.57,8.67,11.2,11.3]\n",
    "# BW4=[7.3,7.5,10.5,10.7]\n",
    "BW4=BW2\n",
    "# BW5 = np.array([2.2,2.4,3.7,3.9])\n",
    "BW5=[1.88,1.96,3.7,3.9]\n",
    "BW3=BW5 #Gold M-alpha\n",
    "\n",
    "# bw=[BW1,BW2,BW3,BW4,BW5]\n",
    "bw=[BW1,BW2,BW4,BW5]\n",
    "# bw=[BW3,BW4,BW5]\n",
    "\n",
    "\n",
    "plt.close('all')\n",
    "# elements=['As','Ga','Au','Ge','Pd']\n",
    "elements=['As','Ga','Ge','Pd']\n",
    "# elements=['Au','Ge','Pd']\n",
    "s.add_elements(elements)\n",
    "# lines=['As_Ka','Ga_Ka','Au_Ma','Ge_Ka','Pd_La']\n",
    "lines=['As_Ka','Ga_Ka','Ge_Ka','Pd_La']\n",
    "# lines=['Au_Ma','Ge_Ka','Pd_La']\n",
    "s.add_lines(lines)\n",
    "# s.add_lines()\n",
    "s.mean('x').mean('y').plot(background_windows=bw)\n",
    "s.set_microscope_parameters(real_time=0.01,beam_current=probe_current[0])\n",
    "s_ints = s.get_lines_intensity(integration_windows=1.2,background_windows=bw, only_lines=lines)\n",
    "\n",
    "\n",
    "#     if el not in ['As','Ge','Pd','Au']:\n",
    "#     if el not in ['Pd','Au','Pd','As','Ge']:\n",
    "#         continue\n",
    "#     print(el)\n",
    "#     plt.figure(str(el))\n",
    "#     cmp=cmp.data\n",
    "#     cmp=cmp/100*255.\n",
    "#     cmp[cmp<10]=np.nan\n",
    "#     cmp[cmp>100]=255\n",
    "#     print(c)\n",
    "#     plt.imshow(cmp, cmap=c,alpha=1,interpolation='none')\n",
    "# plt.show()\n",
    "#     plt.plot(spline(cmp.data, lamb=lamb))\n",
    "# plt.legend(s.metadata.Sample.elements)"
   ]
  },
  {
   "cell_type": "code",
   "execution_count": 69,
   "metadata": {
    "collapsed": false
   },
   "outputs": [
    {
     "data": {
      "text/plain": [
       "0.23424285650253296"
      ]
     },
     "execution_count": 69,
     "metadata": {},
     "output_type": "execute_result"
    }
   ],
   "source": [
    "s.axes_manager.as_dictionary()['axis-0']['scale']"
   ]
  },
  {
   "cell_type": "code",
   "execution_count": 7,
   "metadata": {
    "collapsed": false
   },
   "outputs": [
    {
     "name": "stdout",
     "output_type": "stream",
     "text": [
      "Solution converged to less than 1e-05 weight percent, after 14 iterations.\n"
     ]
    }
   ],
   "source": [
    "from hyperspy import zeta_abscorr as zc\n",
    "\n",
    "# As=1412.91716335\n",
    "# Ga=1215.72097779\n",
    "# Au1=6945.31059159\n",
    "# Ge1=1482.31684522\n",
    "# Pd1=2496.79609568 # This is Pd_l, not Pd_m\n",
    "# Ga_l=1626.12587259\n",
    "# Ge1_l=1791.73734361\n",
    "# zeta=[As,Ga_l,Au1,Ge1_l,Pd1]\n",
    "# zeta=[As,Ga,Ge1,Pd1]\n",
    "As=np.mean([689,706])\n",
    "Ga=np.mean([582,608])\n",
    "Ge=np.mean([732,741,748])\n",
    "Pd=np.mean([1248,1284,1318])\n",
    "Au=np.mean([2387,2397])\n",
    "\n",
    "kAu_l=4.892\n",
    "kAu_m=3.868\n",
    "kGe_k=2.617\n",
    "kPd_m=3.825\n",
    "kGa_k=2.4919\n",
    "# kGa_l=4.719\n",
    "kAs_k=2.835\n",
    "\n",
    "zeta=[As,Ga,Ge,Pd]\n",
    "# zeta = [Au,Ge,Pd]\n",
    "# zeta=[As,Ga,AuM,Ge,Pd]\n",
    "kfactors = [kAs_k,kGa_k, kGe_k,kPd_m]\n",
    "# kfactors=[kAu_m,kGe_k,kPd_m]\n",
    "# kfactors = [kAs_k,kGa_k, kAu_l, kGe_k,kPd_m]\n",
    "\n",
    "s_comp_zeta, s_pt = s.quantification(s_ints, 'zeta', zeta)\n",
    "s_comp_cl = s.quantification(s_ints, 'CL', kfactors)\n",
    "\n",
    "s_comp_abs, s_pt = zc.quantification_zeta(s, s_ints, zeta, convergence_precision=0.00001)\n",
    "\n",
    "s_comp_linescan_abs = [c.mean('x') for c in s_comp_abs]\n",
    "s_comp_linescan_zeta = [c.mean('x') for c in s_comp_zeta]\n",
    "s_comp_linescan_cl = [c.mean('x') for c in s_comp_cl]\n",
    "\n",
    "lamb=10\n",
    "\n",
    "# plt.figure()\n",
    "# for cmp,el,i,c in zip(s_comp_linescan,elements,s_ints, cmap):\n",
    "#     plt.plot(cmp)\n",
    "\n",
    "\n",
    "    \n",
    "# for cmp,el,i in zip(s_comp_linescan,elements,s_ints):\n",
    "#     plt.plot(spline(cmp.data, lamb=lamb))\n",
    "# plt.legend(elements)\n",
    "# print(s.metadata.Sample.elements)\n",
    "\n",
    "\n",
    "# kAu_l=4.892\n",
    "# kGe_k=2.617\n",
    "# kPd_m=3.825\n",
    "# kGa_k=2.4919\n",
    "# # kGa_l=4.719\n",
    "# kAs_k=2.835\n",
    "\n",
    "# # kfactors = [kAs_k,kGa_k, kAu_l, kGe_k,kPd_m]\n",
    "# kfactors = [kAs_k,kGa_k, kGe_k,kPd_m]\n",
    "# s_comp_cl = s.quantification(s_ints, 'CL', kfactors)\n",
    "# s_comp_linescan = [c.mean('x') for c in s_comp]\n",
    "# lamb=1\n",
    "\n",
    "# plt.figure('kfactor')\n",
    "# for cmp,el,i in zip(s_comp_linescan,elements,s_ints):\n",
    "#     plt.plot(spline(cmp.data, lamb=lamb))\n",
    "# plt.legend(elements)"
   ]
  },
  {
   "cell_type": "code",
   "execution_count": 18,
   "metadata": {
    "collapsed": false
   },
   "outputs": [
    {
     "name": "stdout",
     "output_type": "stream",
     "text": [
      "['As', 'Ga', 'Ge', 'Pd']\n"
     ]
    }
   ],
   "source": [
    "plt.close('all')\n",
    "from scipy.signal import cspline1d as spline\n",
    "l=10\n",
    "print(elements)\n",
    "for i, el in enumerate(elements):\n",
    "    plt.figure('1_'+str(el)+'_nm')\n",
    "    plt.hold(True)\n",
    "    cz=s_comp_linescan_zeta[i]\n",
    "    ccl=s_comp_linescan_cl[i]\n",
    "    cab=s_comp_linescan_abs[i]\n",
    "    scale=s.axes_manager.as_dictionary()['axis-0']['scale']\n",
    "    x = np.arange(len(cab.data))*scale\n",
    "    plt.plot(x,spline(ccl.data,l))\n",
    "    plt.plot(x,spline(cz.data,l))\n",
    "    plt.plot(x,spline(cab.data,l))\n",
    "#     plt.tight_layout()\n",
    "    plt.xlim([None,360*scale])\n",
    "    if i < 2:\n",
    "        plt.ylim([-10,60])\n",
    "    else:\n",
    "        plt.ylim([-10,110])\n",
    "    plt.legend(['CL','Zeta','Zeta (abs)'],loc='best')\n",
    "    plt.grid(axis='y')\n",
    "    plt.xlabel('X (nm)')\n",
    "    plt.ylabel('Composition (%)')\n"
   ]
  },
  {
   "cell_type": "code",
   "execution_count": 15,
   "metadata": {
    "collapsed": false
   },
   "outputs": [
    {
     "name": "stdout",
     "output_type": "stream",
     "text": [
      "['As', 'Ga', 'Ge', 'Pd']\n"
     ]
    },
    {
     "data": {
      "text/plain": [
       "<matplotlib.legend.Legend at 0x2e028992908>"
      ]
     },
     "execution_count": 15,
     "metadata": {},
     "output_type": "execute_result"
    }
   ],
   "source": [
    "plt.figure()\n",
    "plt.hold(1)\n",
    "plt.grid(axis='y',which='both')\n",
    "for i in range(len(elements)):\n",
    "    cab=s_comp_linescan_abs[i]\n",
    "    scale=s.axes_manager.as_dictionary()['axis-0']['scale']\n",
    "    x = np.arange(len(cab.data))*scale\n",
    "    plt.plot(x,spline(cab.data,l))\n",
    "    plt.tight_layout()\n",
    "    plt.xlim([None,360*scale])\n",
    "    plt.ylim([-10,110])\n",
    "    plt.xlabel('X (nm)')\n",
    "    plt.ylabel('Composition (%)')\n",
    "elements.reverse()\n",
    "print(elements)\n",
    "plt.legend(elements,loc='best')"
   ]
  },
  {
   "cell_type": "markdown",
   "metadata": {},
   "source": [
    "### With abs correction"
   ]
  },
  {
   "cell_type": "code",
   "execution_count": 41,
   "metadata": {
    "collapsed": false
   },
   "outputs": [
    {
     "name": "stderr",
     "output_type": "stream",
     "text": [
      "/home/johannes/hyperspy/hyperspy/zeta_abscorr.py:129: RuntimeWarning: invalid value encountered in true_divide\n",
      "  comp = np.asarray([zi / zi_sum for zi in zi_list])\n",
      "/home/johannes/hyperspy/hyperspy/misc/material.py:42: RuntimeWarning: invalid value encountered in true_divide\n",
      "  atomic_percent[i] /= sum_weight\n"
     ]
    },
    {
     "data": {
      "text/plain": [
       "<matplotlib.legend.Legend at 0x7f19706ed940>"
      ]
     },
     "execution_count": 41,
     "metadata": {},
     "output_type": "execute_result"
    }
   ],
   "source": [
    "from hyperspy import zeta_abscorr as zc\n",
    "\n",
    "As=np.mean([689,706])\n",
    "Ga=np.mean([582,608])\n",
    "Ge=np.mean([732,741,748])\n",
    "Pd=np.mean([1248,1284,1318])\n",
    "Au=np.mean([3450,3473])\n",
    "zeta=[As,Ga,Ge,Pd]\n",
    "\n",
    "s_comp, s_pt = zc.quantification_zeta(s, s_ints, zeta, convergence_precision=None)#0.00001)\n",
    "\n",
    "s_comp_linescan = [c.mean('x')[:360] for c in s_comp]\n",
    "lamb=1\n",
    "\n",
    "plt.figure('zeta-abscorr3')\n",
    "for cmp,el,i in zip(s_comp_linescan,elements,s_ints):\n",
    "    plt.plot(spline(cmp.data, lamb=lamb))\n",
    "plt.legend(elements)\n"
   ]
  },
  {
   "cell_type": "code",
   "execution_count": 29,
   "metadata": {
    "collapsed": false
   },
   "outputs": [],
   "source": [
    "plt.close('all')"
   ]
  },
  {
   "cell_type": "code",
   "execution_count": 6,
   "metadata": {
    "collapsed": true
   },
   "outputs": [],
   "source": [
    "s_comp, s_pt = s.quantification(s_ints, 'zeta', zeta)\n",
    "cmap = ['Blues','Reds','Blues','Greens','Reds']\n",
    "s_comp_linescan = [c.mean('x') for c in s_comp]\n",
    "lamb=100\n",
    "\n",
    "# plt.figure()\n",
    "# for cmp,el,i,c in zip(s_comp_linescan,elements,s_ints, cmap):\n",
    "#     plt.plot(cmp)\n",
    "plt.figure()\n",
    "for cmp,el,i,c in zip(s_comp_linescan,elements,s_ints, cmap):\n",
    "    plt.plot(spline(cmp.data, lamb=lamb))\n"
   ]
  },
  {
   "cell_type": "code",
   "execution_count": 10,
   "metadata": {
    "collapsed": false
   },
   "outputs": [
    {
     "name": "stderr",
     "output_type": "stream",
     "text": [
      "WARNING:hyperspy.signal:<EDSTEMSpectrum, title: E_EDS Spectrum Image, dimensions: (64, 64|2048)> data is replaced by its optimized copy\n",
      "/home/johannes/hyperspy/hyperspy/misc/eds/utils.py:447: RuntimeWarning: divide by zero encountered in double_scalars\n",
      "  / intensities[i] / kfactors[i]\n"
     ]
    }
   ],
   "source": [
    "#Heat-treated\n",
    "from scipy.signal import cspline1d as spline\n",
    "BW1=[8.3,8.6,11.2,11.3]\n",
    "# BW2=np.array([8.47,8.66,9.67,9.86])\n",
    "BW2=[8.57,8.67,11.2,11.3]\n",
    "# BW3= np.array([9.25, 9.45,10.1,10.3])\n",
    "BW3=BW2\n",
    "# BW4 = np.array([9.4,9.6,10.2,10.4])\n",
    "BW4=[8.57,8.67,11.2,11.3]\n",
    "# BW5 = np.array([2.2,2.4,3.7,3.9])\n",
    "BW5=[1.88,1.96,3.7,3.9]\n",
    "bw=[BW1,BW2,BW3,BW4,BW5]\n",
    "bw=[BW1,BW2,BW4,BW5]\n",
    "\n",
    "As=1412.91716335\n",
    "Ga=1215.72097779\n",
    "Au1=6945.31059159\n",
    "Ge1=1482.31684522\n",
    "Pd1=2496.79609568 # This is Pd_l, not Pd_m\n",
    "zeta=[As,Ga,Au1,Ge1,Pd1]\n",
    "zeta=[As,Ga,Ge1,Pd1]\n",
    "\n",
    "kAu_l=4.892\n",
    "kGe_k=2.617\n",
    "kPd_m=3.825\n",
    "kGa_k=2.4919\n",
    "kAs_k=2.835\n",
    "\n",
    "# kfactors = [kAs_k,kGa_k, kAu_l, kGe_k,kPd_m]\n",
    "kfactors = [kAs_k, kGa_k, kGe_k,kPd_m]\n",
    "\n",
    "elements=['As','Ga','Ge','Pd']\n",
    "plt.close('all')\n",
    "s=hs.load('/home/johannes/Desktop/Link to Documents/Materialfysikk/Data/160506_SC239_X/E_EDS Spectrum Image.dm3')\n",
    "s_top=s.inav[:,:.5]\n",
    "s_bottom=s.inav[:,10.:]\n",
    "lamb=10\n",
    "for i,s in enumerate([s_top, s_bottom]):\n",
    "\n",
    "    elements=['As','Ga','Ge','Pd']\n",
    "    s.add_elements(elements)\n",
    "    s.add_lines()\n",
    "    s.metadata\n",
    "    s.set_microscope_parameters(real_time=0.2,beam_current=0.17)\n",
    "    s_ints = s.get_lines_intensity(integration_windows=1.2,background_windows=bw)\n",
    "    for method, factors in zip(['zeta','CL'],[zeta,kfactors]):\n",
    "        s_comp = s.quantification(s_ints, method, factors)\n",
    "        if type(s_comp) is tuple:\n",
    "            s_comp=s_comp[0]\n",
    "        s_comp_linescan = [c.mean('y') for c in s_comp]\n",
    "        plt.figure(str(i)+' '+method)\n",
    "        for cmp in s_comp_linescan:\n",
    "            plt.plot(spline(cmp.data, lamb=lamb))\n",
    "        plt.legend(elements)\n",
    "# s_comp_linescan = [c.mean('x') for c in s_comp]\n",
    "# lamb=1000\n",
    "# for cmp in s_comp_linescan:\n",
    "#     plt.plot(cmp)\n",
    "# #     plt.plot(spline(cmp.data, lamb=lamb))\n",
    "# plt.legend(s.metadata.Sample.elements)\n"
   ]
  },
  {
   "cell_type": "code",
   "execution_count": null,
   "metadata": {
    "collapsed": true
   },
   "outputs": [],
   "source": [
    "s_comp, s_pt = s.quantification(s_ints, 'zeta', zeta)"
   ]
  },
  {
   "cell_type": "markdown",
   "metadata": {},
   "source": [
    "### Not really relevant"
   ]
  },
  {
   "cell_type": "code",
   "execution_count": null,
   "metadata": {
    "collapsed": false
   },
   "outputs": [],
   "source": [
    "from scipy.signal import cspline1d as spline\n",
    "print(s_comp_linescan[0].data.min())\n",
    "l=[]\n",
    "lamb=1000\n",
    "for cmp in s_comp_linescan:\n",
    "    l.append(spline(cmp.data, lamb=lamb))\n",
    "    \n",
    "for i in range(len(s_comp_linescan)):\n",
    "#     plt.plot(s_comp_linescan[i])\n",
    "    plt.plot(l[i])"
   ]
  },
  {
   "cell_type": "code",
   "execution_count": null,
   "metadata": {
    "collapsed": false
   },
   "outputs": [],
   "source": [
    "# s=hs.load('/home/johannes/Desktop/Link to Documents/Materialfysikk/Data/unheated/A_EDS GaAs.hdf5')\n",
    "%load_ext autoreload\n",
    "%autoreload 2\n",
    "from skimage.transform import rescale\n",
    "from hyperspy import project_routine\n",
    "\n",
    "eds_scale=s.axes_manager.as_dictionary()['axis-1']['scale']\n",
    "thickness_scale=t.axes_manager.as_dictionary()['axis-1']['scale']\n",
    "print(eds_scale, thickness_scale)\n",
    "\n",
    "th=thickness_map_rotated\n",
    "thick=((th-th.min())/th.max()*255).astype('uint8')\n",
    "eds=rescale(eds_mean,(eds_scale/thickness_scale))\n",
    "eds = eds[:1000,:]\n",
    "eds=((eds-eds.min())/(eds.max()-eds.min())*255).astype('uint8')\n",
    "print(eds.max())\n",
    "plt.figure('eds'),plt.imshow(eds)\n",
    "plt.figure('th'),plt.imshow(thick)\n",
    "project_routine.imreg(eds,thick,show=True)"
   ]
  },
  {
   "cell_type": "code",
   "execution_count": 2,
   "metadata": {
    "collapsed": false
   },
   "outputs": [
    {
     "name": "stderr",
     "output_type": "stream",
     "text": [
      "WARNING:hyperspy.signal:<EDSTEMSpectrum, title: D_EDS Spectrum Image, dimensions: (32, 32|2048)> data is replaced by its optimized copy\n",
      "WARNING:hyperspy.signal:<EDSTEMSpectrum, title: D_EDS Spectrum Image, dimensions: (32, 32|2048)> data is replaced by its optimized copy\n",
      "WARNING:hyperspy.signal:<EDSTEMSpectrum, title: E_EDS Spectrum Image, dimensions: (32, 32|2048)> data is replaced by its optimized copy\n"
     ]
    }
   ],
   "source": [
    "s_C = hs.load('/home/johannes/Desktop/Link to Documents/Materialfysikk/Data/unheated/C_EDS Spectrum Image.dm3').plot()\n",
    "s_D = hs.load('/home/johannes/Desktop/Link to Documents/Materialfysikk/Data/unheated/D_EDS Spectrum Image.dm3').plot()\n",
    "s_E = hs.load('/home/johannes/Desktop/Link to Documents/Materialfysikk/Data/unheated/E_EDS Spectrum Image.dm3').plot()"
   ]
  },
  {
   "cell_type": "markdown",
   "metadata": {},
   "source": [
    "## Det zeta factors GaAs? from heated"
   ]
  },
  {
   "cell_type": "code",
   "execution_count": null,
   "metadata": {
    "collapsed": true
   },
   "outputs": [],
   "source": []
  },
  {
   "cell_type": "code",
   "execution_count": 38,
   "metadata": {
    "collapsed": false
   },
   "outputs": [
    {
     "name": "stdout",
     "output_type": "stream",
     "text": [
      "The autoreload extension is already loaded. To reload it, use:\n",
      "  %reload_ext autoreload\n"
     ]
    },
    {
     "name": "stderr",
     "output_type": "stream",
     "text": [
      "/usr/local/lib/python3.5/dist-packages/matplotlib/__init__.py:898: UserWarning: axes.color_cycle is deprecated and replaced with axes.prop_cycle; please use the latter.\n",
      "  warnings.warn(self.msg_depr % (key, alt_key))\n"
     ]
    },
    {
     "name": "stdout",
     "output_type": "stream",
     "text": [
      "['As', 'Ga']\n",
      "zeta 688.909418905\n",
      "zeta 581.955065836\n"
     ]
    }
   ],
   "source": [
    "%load_ext autoreload\n",
    "%autoreload 2\n",
    "\n",
    "s = hs.load('/home/johannes/Desktop/Link to Documents/Materialfysikk/Data/160506_SC239_X/C_EDS Spectrum Image GaAs.hdf5')\n",
    "plt.close('all')\n",
    "IW = 1.2\n",
    "tilt = -np.sqrt(2.7**2+.8**2)\n",
    "\n",
    "probe_current= (.1194+.1181)/2\n",
    "\n",
    "p_GaAs = 5317.6\n",
    "elements = ['As','Ga']\n",
    "density=p_GaAs\n",
    "\n",
    "bw = np.array([[ 9.79,9.99, 11.09, 11.29],[ 8.47,8.66,9.67,9.86]])\n",
    "\n",
    "comp=(hs.material.atomic_to_weight([.5,.5],['As','Ga'])/100)\n",
    "t = 0.05\n",
    "\n",
    "time = s.data.shape[0]*s.data.shape[1]*t\n",
    "\n",
    "edx=s.sum('x').sum('y')\n",
    "edx.add_elements(elements)\n",
    "\n",
    "edx.add_lines()\n",
    "\n",
    "edx.plot(background_windows=bw)\n",
    "\n",
    "\n",
    "edx.set_microscope_parameters(beam_current=current, tilt_stage=tilt, real_time=time, elevation_angle=24.3, azimuth_angle=0.0)\n",
    "s_int=edx.get_lines_intensity(background_windows=bw, integration_windows=IW,plot_result=0)\n",
    "\n",
    "zeta = determine_zeta_factor(edx, s_int, comp, thickness, density)\n",
    "print(elements)\n",
    "for z in zeta:\n",
    "    print('zeta',np.nanmean(z.data.flatten()))"
   ]
  },
  {
   "cell_type": "code",
   "execution_count": 20,
   "metadata": {
    "collapsed": false
   },
   "outputs": [
    {
     "name": "stdout",
     "output_type": "stream",
     "text": [
      "The autoreload extension is already loaded. To reload it, use:\n",
      "  %reload_ext autoreload\n"
     ]
    },
    {
     "name": "stderr",
     "output_type": "stream",
     "text": [
      "/usr/local/lib/python3.5/dist-packages/matplotlib/__init__.py:898: UserWarning: axes.color_cycle is deprecated and replaced with axes.prop_cycle; please use the latter.\n",
      "  warnings.warn(self.msg_depr % (key, alt_key))\n"
     ]
    },
    {
     "name": "stdout",
     "output_type": "stream",
     "text": [
      "['Ge']\n",
      "zeta 747.941491559\n"
     ]
    },
    {
     "name": "stderr",
     "output_type": "stream",
     "text": [
      "/usr/local/lib/python3.5/dist-packages/matplotlib/__init__.py:898: UserWarning: axes.color_cycle is deprecated and replaced with axes.prop_cycle; please use the latter.\n",
      "  warnings.warn(self.msg_depr % (key, alt_key))\n"
     ]
    },
    {
     "name": "stdout",
     "output_type": "stream",
     "text": [
      "['Pd']\n",
      "zeta 1284.10806052\n"
     ]
    }
   ],
   "source": [
    "%load_ext autoreload\n",
    "%autoreload 2\n",
    "\n",
    "# a_A1 = hs.load('/home/johannes/Desktop/Link to Documents/Materialfysikk/Data/unheated/A_EDS Ge.hdf5')\n",
    "# a_A2 = hs.load('/home/johannes/Desktop/Link to Documents/Materialfysikk/Data/unheated/A_EDS Pd.hdf5')\n",
    "\n",
    "plt.close('all')\n",
    "IW = 1.2\n",
    "tilt = -np.sqrt(2.3**2+.6**2)\n",
    "\n",
    "current= (0.1769+.1747)/2\n",
    "\n",
    "p_Ge = hs.material.elements.Ge.Physical_properties.density_gcm3*1000\n",
    "p_Pd = hs.material.elements.Pd.Physical_properties.density_gcm3*1000\n",
    "elements = [['Ge'],['Pd']]\n",
    "\n",
    "BW_ge = np.array([[9.25, 9.45,10.1,10.3]])\n",
    "BW_pd = np.array([[2.2,2.4,3.7,3.9]])\n",
    "\n",
    "comp=[1]\n",
    "\n",
    "t = 0.01\n",
    "for s, bw,density,element in zip([a_A2,a_A1],[BW_ge,BW_pd],[p_Ge,p_Pd],elements):\n",
    "    \n",
    "    time = s.data.shape[0]*s.data.shape[1]*t\n",
    "    edx=s.sum('x').sum('y')\n",
    "    edx.add_elements(element)\n",
    "    edx.add_lines()\n",
    "\n",
    "    edx.plot(background_windows=bw)\n",
    "\n",
    "    edx.set_microscope_parameters(beam_current=current, tilt_stage=tilt, real_time=time, elevation_angle=24.3, azimuth_angle=0.0)\n",
    "    s_int=edx.get_lines_intensity(background_windows=bw, integration_windows=IW,plot_result=0)\n",
    "\n",
    "    zeta = determine_zeta_factor(edx, s_int, comp, thickness, density)\n",
    "    print(element)\n",
    "    for z in zeta:\n",
    "        print('zeta',np.nanmean(z.data.flatten()))\n"
   ]
  }
 ],
 "metadata": {
  "anaconda-cloud": {},
  "kernelspec": {
   "display_name": "Python [default]",
   "language": "python",
   "name": "python3"
  },
  "language_info": {
   "codemirror_mode": {
    "name": "ipython",
    "version": 3
   },
   "file_extension": ".py",
   "mimetype": "text/x-python",
   "name": "python",
   "nbconvert_exporter": "python",
   "pygments_lexer": "ipython3",
   "version": "3.5.2"
  }
 },
 "nbformat": 4,
 "nbformat_minor": 1
}
