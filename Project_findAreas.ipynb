{
 "cells": [
  {
   "cell_type": "code",
   "execution_count": 1,
   "metadata": {
    "collapsed": false
   },
   "outputs": [
    {
     "name": "stderr",
     "output_type": "stream",
     "text": [
      "unbcf_fast library is not present...\n",
      "Falling back to slow python only backend.\n"
     ]
    }
   ],
   "source": [
    "import hyperspy.api as hs\n",
    "from PIL import Image\n",
    "%matplotlib qt4\n",
    "import matplotlib.pyplot as plt\n",
    "import numpy as np\n",
    "#import cv2\n",
    "import scipy as scp\n",
    "\n",
    "fname_diff=\"/home/johannes/Desktop/Link to Data/AstartDataJulie/160512_SC239_X_overview_60k.blo\"\n",
    "fname_crop = \"/home/johannes/Desktop/Link to Data/AstartDataJulie/diff-contact.blo\"\n",
    "fname_smallgrains = \"/home/johannes/Desktop/Link to Data/160309JulieContact/SmallGrains_EDS Spectrum Image.dm3\"\n",
    "fname_nwcorner = \"/home/johannes/Desktop/Link to Data/160309JulieContact/NWcorner_EDS Spectrum Image.dm3\"\n",
    "fname_nwcontact = \"/home/johannes/Desktop/Link to Data/160309JulieContact/NWcontact_EDS Spectrum Image.dm3\"\n",
    "fname_contact='/media/johannes/149830F39830D4C8/Users/Johannes/OneDrive/Link to Documents/Materialfysikk/Data/160309JulieContact/contact_EDS Spectrum Image.dm3'\n",
    "\n",
    "#USE HAADF, NOT BFTEM\n",
    "fname_overview='/home/johannes/Desktop/Link to Data/160309JulieContact/BFTEM_overview.dm3'\n",
    "fname_haadf1=   '/home/johannes/Desktop/Link to Data/160309JulieContact/HAADF_250k_3C.dm3'\n",
    "fname_haadf2=   '/home/johannes/Desktop/Link to Data/160309JulieContact/HAADF_250k_8C.dm3'\n",
    "fname_haadf3=   '/home/johannes/Desktop/Link to Data/160309JulieContact/HAADF_500k_8C.dm3'"
   ]
  },
  {
   "cell_type": "code",
   "execution_count": null,
   "metadata": {
    "collapsed": true
   },
   "outputs": [],
   "source": [
    "full=hs.load(fname_diff)\n",
    "full.plot()"
   ]
  },
  {
   "cell_type": "code",
   "execution_count": null,
   "metadata": {
    "collapsed": false
   },
   "outputs": [],
   "source": [
    "se_crop = se.inav[.045:.12,.040:.13]\n",
    "sd_crop = sd.inav[60.:,110.:210. ]"
   ]
  },
  {
   "cell_type": "code",
   "execution_count": null,
   "metadata": {
    "collapsed": false
   },
   "outputs": [],
   "source": [
    "sd_crop.save('/home/johannes/Desktop/Project/crops/num1/sd_crop.blo')"
   ]
  },
  {
   "cell_type": "markdown",
   "metadata": {
    "collapsed": false
   },
   "source": [
    "se_crop.save('/home/johannes/Desktop/Project/crops/num1/se_crop.hdf5')"
   ]
  },
  {
   "cell_type": "code",
   "execution_count": null,
   "metadata": {
    "collapsed": false
   },
   "outputs": [],
   "source": [
    " sd_crop = hs.load('/home/johannes/Desktop/Link to Documents/Materialfysikk/PROJECT/Project/crops/num1/sd_crop.blo')\n",
    "#se_crop = hs.load('/home/johannes/Desktop/Project/crops/num1/se_crop.hdf5')"
   ]
  },
  {
   "cell_type": "code",
   "execution_count": null,
   "metadata": {
    "collapsed": false
   },
   "outputs": [],
   "source": [
    "plt.close('all')\n",
    "# import scipy as scp\n",
    "# a=sd_crop.map(scp.ndimage.rotate, angle=hs.signals.BaseSignal(10),reshape=False)\n",
    "# sd_crop.data[:] = scp.ndimage.rotate(sd_crop.data, angle=270,reshape=False)\n",
    "# sd_crop.plot()\n",
    "se_crop.plot()"
   ]
  },
  {
   "cell_type": "code",
   "execution_count": null,
   "metadata": {
    "collapsed": false
   },
   "outputs": [],
   "source": [
    "se_sig=se_crop.spikes_removal_tool()\n",
    "# sd_crop.plot(navigator=sd_crop.as_signal1D(1))"
   ]
  },
  {
   "cell_type": "code",
   "execution_count": null,
   "metadata": {
    "collapsed": false
   },
   "outputs": [],
   "source": [
    "plt.close('all')\n",
    "sd_crop.plot()\n",
    "sd_crop.change_dtype('float16')\n",
    "# se_crop.change_dtype('float16')\n",
    "# se_crop.decomposition(output_dimension=4)\n",
    "sd_crop.decomposition()"
   ]
  },
  {
   "cell_type": "code",
   "execution_count": null,
   "metadata": {
    "collapsed": false
   },
   "outputs": [],
   "source": [
    "loadings=sd_crop.get_decomposition_loadings()"
   ]
  },
  {
   "cell_type": "code",
   "execution_count": null,
   "metadata": {
    "collapsed": false
   },
   "outputs": [],
   "source": [
    "# l=loadings\n",
    "plt.imshow(loadings.data[1,:,:])\n",
    "import numpy as np\n",
    "np.save('/home/johannes/Desktop/Project/models/wire/se_model_array_1.hdf5',loadings.data[1,:,:])"
   ]
  },
  {
   "cell_type": "code",
   "execution_count": null,
   "metadata": {
    "collapsed": false
   },
   "outputs": [],
   "source": [
    "se_crop.plot_explained_variance_ratio()\n",
    "sd_crop.plot_explained_variance_ratio()"
   ]
  },
  {
   "cell_type": "code",
   "execution_count": null,
   "metadata": {
    "collapsed": false
   },
   "outputs": [],
   "source": [
    "se_crop.blind_source_separation()\n",
    "# sd_crop.plot_decomposition_loadings(3)"
   ]
  },
  {
   "cell_type": "code",
   "execution_count": null,
   "metadata": {
    "collapsed": false
   },
   "outputs": [],
   "source": [
    "plt.close('all')\n",
    "se_crop_1 = se_crop.get_decomposition_model([1])\n",
    "# sd_crop_1 = sd_crop.get_decomposition_model([1])\n",
    "se_crop_1.plot()\n",
    "# sd_crop_1.plot()"
   ]
  },
  {
   "cell_type": "code",
   "execution_count": null,
   "metadata": {
    "collapsed": true
   },
   "outputs": [],
   "source": [
    "se_crop_1 = se_crop.get_decomposition_loadings"
   ]
  },
  {
   "cell_type": "code",
   "execution_count": null,
   "metadata": {
    "collapsed": false
   },
   "outputs": [],
   "source": [
    "sd_crop.diff(0).plot()"
   ]
  },
  {
   "cell_type": "code",
   "execution_count": null,
   "metadata": {
    "collapsed": false
   },
   "outputs": [],
   "source": [
    "se_arr = se_crop_1.isig[:]\n",
    "se_arr=se_arr.mean(axis=2)\n"
   ]
  },
  {
   "cell_type": "code",
   "execution_count": null,
   "metadata": {
    "collapsed": false
   },
   "outputs": [],
   "source": [
    "#Make models\n",
    "se_crop.plot()\n",
    "se_model=se_crop.inav[.07:.09,.05:.06]\n",
    "se_model.save('/home/johannes/Desktop/Project/models/wire/se_model.hdf5')"
   ]
  },
  {
   "cell_type": "code",
   "execution_count": null,
   "metadata": {
    "collapsed": true
   },
   "outputs": [],
   "source": [
    "sd_model=sd_crop.inav[20.:44.,36.:58.]\n",
    "sd_model.save('/home/johannes/Desktop/Project/models/wire/sd_model.hdf5')"
   ]
  },
  {
   "cell_type": "code",
   "execution_count": null,
   "metadata": {
    "collapsed": true
   },
   "outputs": [],
   "source": [
    "se_model = hs.load('/home/johannes/Desktop/Project/models/wire/se_model.hdf5')\n",
    "se_model.plot()"
   ]
  },
  {
   "cell_type": "code",
   "execution_count": null,
   "metadata": {
    "collapsed": true
   },
   "outputs": [],
   "source": []
  },
  {
   "cell_type": "code",
   "execution_count": null,
   "metadata": {
    "collapsed": false
   },
   "outputs": [],
   "source": [
    "sd_mod= sd_model.create_model()\n",
    "se_mod = se_model.create_model()"
   ]
  },
  {
   "cell_type": "code",
   "execution_count": null,
   "metadata": {
    "collapsed": false
   },
   "outputs": [],
   "source": [
    "se_crop.T\n",
    "se_sigcrop = se_crop.isig[9.1:9.3]"
   ]
  },
  {
   "cell_type": "code",
   "execution_count": null,
   "metadata": {
    "collapsed": false
   },
   "outputs": [],
   "source": [
    "sd_crop.T.plot()"
   ]
  },
  {
   "cell_type": "code",
   "execution_count": null,
   "metadata": {
    "collapsed": true
   },
   "outputs": [],
   "source": [
    "sd_sigcrop=sd_crop.isig[0.95:1.07,1.25:1.38]"
   ]
  },
  {
   "cell_type": "code",
   "execution_count": null,
   "metadata": {
    "collapsed": false
   },
   "outputs": [],
   "source": [
    "plt.close('all')\n",
    "sd_sigcrop = sd_sigcrop.isig[1,4]\n",
    "# sd_sigcrop.T.plot()"
   ]
  },
  {
   "cell_type": "code",
   "execution_count": null,
   "metadata": {
    "collapsed": true
   },
   "outputs": [],
   "source": [
    "sd_sigcrop.save('/home/johannes/Desktop/Project/crop/sd_sigcrop.hdf5')\n",
    "se_sigcrop.save('/home/johannes/Desktop/Project/crop/se_sigcrop.hdf5')"
   ]
  },
  {
   "cell_type": "markdown",
   "metadata": {},
   "source": [
    "# Trying to fit the images"
   ]
  },
  {
   "cell_type": "code",
   "execution_count": 2,
   "metadata": {
    "collapsed": false
   },
   "outputs": [],
   "source": [
    "import cv2\n",
    "import numpy as np\n",
    "# se_sigcrop=hs.load('/home/johannes/Desktop/Project/crops/num2/se_sigcrop.hdf5')\n",
    "# sd_sigcrop=hs.load('/home/johannes/Desktop/Project/crops/num2/sd_sigcrop.hdf5')\n"
   ]
  },
  {
   "cell_type": "code",
   "execution_count": null,
   "metadata": {
    "collapsed": false
   },
   "outputs": [],
   "source": [
    "import numpy as np\n",
    "arr = np.array(sd_sigcrop.data)\n",
    "arr[arr>200]=255\n",
    "arr[arr<50]=0"
   ]
  },
  {
   "cell_type": "code",
   "execution_count": null,
   "metadata": {
    "collapsed": false
   },
   "outputs": [],
   "source": [
    "sd_dat=sd_sigcrop.data\n",
    "se_dat=se_sigcrop.data.mean(axis=2)"
   ]
  },
  {
   "cell_type": "code",
   "execution_count": null,
   "metadata": {
    "collapsed": false
   },
   "outputs": [],
   "source": [
    "print(se_dat.shape)\n",
    "print(sd_dat.shape)\n",
    "se_dat=se_dat[:52,:]\n",
    "sd_dat=sd_dat[:,:56]"
   ]
  },
  {
   "cell_type": "code",
   "execution_count": null,
   "metadata": {
    "collapsed": false
   },
   "outputs": [],
   "source": [
    "im_df=Image.fromarray(data_threshold)\n",
    "im_sped=Image.fromarray(sped_data)"
   ]
  },
  {
   "cell_type": "markdown",
   "metadata": {},
   "source": [
    "# Crop images , force length"
   ]
  },
  {
   "cell_type": "code",
   "execution_count": null,
   "metadata": {
    "collapsed": false
   },
   "outputs": [],
   "source": [
    "#data_threshold[data_threshold<180]=0\n",
    "#data_threshold[data_threshold>200]=0\n",
    "#plt.close('all')\n",
    "plt.imshow(edx.data.mean(axis=2),interpolation='none')\n",
    "\n",
    "plt.figure()\n",
    "#sped_data[sped_data<180]=0\n",
    "plt.imshow(sped_data,interpolation='none')"
   ]
  },
  {
   "cell_type": "markdown",
   "metadata": {},
   "source": [
    "## New attempt"
   ]
  },
  {
   "cell_type": "code",
   "execution_count": 8,
   "metadata": {
    "collapsed": false
   },
   "outputs": [],
   "source": [
    "import cv2\n",
    "sped_data=np.load('/home/johannes/Desktop/Link to Documents/Materialfysikk/PROJECT/Project/machine_learning/sped_isig_cut_array.npy')\n",
    "img=sped_data.astype('uint8')\n",
    "pil_img = Image.fromarray(img)\n",
    "pil_img_resized=pil_img.resize(data_threshold.shape)\n",
    "img=np.asarray(pil_img_resized)\n",
    "rows,cols = img.shape\n",
    "plt.figure('resized img')\n",
    "plt.imshow(img)\n",
    "plt.figure()\n",
    "xold,yold=sped_data.shape\n",
    "xnew,ynew=data_threshold.shape\n",
    "pts1 = np.float32([[216,1746],[314,617],[813,1394]])\n",
    "pts2 = np.float32([[824,140],[1392,446],[850,795]])\n",
    "\n",
    "M = cv2.getAffineTransform(pts1,pts2)\n",
    "\n",
    "dst = cv2.warpAffine(img,M,(cols,rows))\n",
    "\n",
    "plt.subplot(121),plt.imshow(img),plt.title('Input')\n",
    "plt.subplot(122),plt.imshow(dst),plt.title('Output')\n",
    "plt.show()"
   ]
  },
  {
   "cell_type": "code",
   "execution_count": null,
   "metadata": {
    "collapsed": false
   },
   "outputs": [],
   "source": [
    "# Result:\n",
    "pts1 = np.float32([[216,1746],[314,617],[813,1394]])\n",
    "pts2 = np.float32([[824,140],[1392,446],[850,795]])\n",
    "M = cv2.getAffineTransform(pts1,pts2)\n",
    "print(M.shape)\n",
    "M[0,2]=M[0,2]*try1.shape[0]/data_threshold.shape[0]\n",
    "M[1,2]=M[1,2]*try1.shape[1]/data_threshold.shape[1]\n",
    "print(M)\n",
    "try1=edx.data.mean(axis=2)\n",
    "tryout=cv2.warpAffine(try1,M,try1.shape)\n",
    "plt.subplot(121),plt.imshow(try1),plt.title('Input')\n",
    "plt.subplot(122),plt.imshow(tryout),plt.title('Output')\n",
    "plt.show()"
   ]
  },
  {
   "cell_type": "markdown",
   "metadata": {},
   "source": [
    "## Do this for contact: (THIS KINDA WORKS)"
   ]
  },
  {
   "cell_type": "code",
   "execution_count": 47,
   "metadata": {
    "collapsed": false
   },
   "outputs": [
    {
     "name": "stdout",
     "output_type": "stream",
     "text": [
      "[[ -2.66735677e-01  -5.26253407e-01   1.80045335e+03]\n",
      " [  9.87906498e-01  -1.85283581e-01   2.50117329e+02]]\n",
      "(200, 260, 144, 144)\n",
      "(200, 260)\n"
     ]
    },
    {
     "data": {
      "text/plain": [
       "<matplotlib.image.AxesImage at 0x7fde2d9fbb38>"
      ]
     },
     "execution_count": 47,
     "metadata": {},
     "output_type": "execute_result"
    }
   ],
   "source": [
    "import cv2\n",
    "from skimage import transform\n",
    "plt.close('all')\n",
    "#sd.plot()\n",
    "#edx.plot()\n",
    "sd_sigcrop = hs.load('/home/johannes/Desktop/Link to Documents/Materialfysikk/PROJECT/Project/crops/num3/full_sd_sigcrop.hdf5')\n",
    "overv=hs.load(fname_haadf1)\n",
    "edx=overv\n",
    "plt.figure()\n",
    "plt.imshow(edx.data)#.mean(axis=2))\n",
    "#plt.figure()\n",
    "sd_sigcrop=np.asarray(transform.resize(sd_sigcrop.data.mean(axis=2).mean(axis=2), edx.data.shape))\n",
    "pts1 = np.float32([[216,1746],[314,617],[813,1394]])\n",
    "pts2 = np.float32([[824,140],[1392,446],[850,795]])\n",
    "# M = cv2.getAffineTransform(pts1,pts2)\n",
    "# M[0,2]=M[0,2]*sd.data.shape[0]/overv.data.shape[0]\n",
    "# M[1,2]=M[1,2]*sd.data.shape[1]/overv.data.shape[1]\n",
    "### This M is for transforming SD with pixels as overview, to overview\n",
    "\n",
    "#pts1 = np.float32([[103,133],[89,72],[63,114]])\n",
    "#pts2 = np.float32([[50,53],[131,53],[87,8]])\n",
    "M = cv2.getAffineTransform(pts1,pts2)\n",
    "offset = M[:,2]\n",
    "### This M is for transforming SD with normal pixels to EDX (nwcontact)\n",
    "\n",
    "#offset=[M[0,2]*sd.data.shape[0]/edx.data.shape[0], M[1,2]*sd.data.shape[1]/edx.data.shape[1]]\n",
    "#offset.reverse()\n",
    "print(M)\n",
    "print (sd.data.shape)\n",
    "print(sd.isig[58,68].data.shape)\n",
    "\n",
    "plt.figure('sd')\n",
    "sd_trans=cv2.warpAffine(sd_sigcrop,M,(edx.data.shape[1],edx.data.shape[0]))\n",
    "plt.imshow(sd_trans,interpolation='none')"
   ]
  },
  {
   "cell_type": "code",
   "execution_count": 50,
   "metadata": {
    "collapsed": false
   },
   "outputs": [
    {
     "name": "stdout",
     "output_type": "stream",
     "text": [
      "0.0124623841662\n"
     ]
    }
   ],
   "source": [
    "import imreg_dft as ird\n",
    "im0=sd_trans\n",
    "im1=edx.data\n",
    "d={'scale':(1.,.01), 'angle':(0.0,0.001)}\n",
    "result = ird.similarity(im0, im1, numiter=1, order=1, constraints=d)\n",
    "# print(int(num),result['success'])\n",
    "\n",
    "assert \"timg\" in result\n",
    "# Maybe we don't want to show plots all the time\n",
    "ird.imshow(im0, im1, result['timg'])\n",
    "plt.show()\n",
    "plt.figure()\n",
    "plt.imshow(im0)\n",
    "plt.figure()\n",
    "plt.imshow((result['timg']))\n",
    "print(result['success'])"
   ]
  },
  {
   "cell_type": "markdown",
   "metadata": {},
   "source": [
    "## By just manually rotating and scaling"
   ]
  },
  {
   "cell_type": "code",
   "execution_count": 31,
   "metadata": {
    "collapsed": false
   },
   "outputs": [
    {
     "name": "stdout",
     "output_type": "stream",
     "text": [
      "-0.17284 -0.17284\n",
      "-1.7964\n",
      "1.3452 3.14159\n"
     ]
    }
   ],
   "source": [
    "from skimage import transform\n",
    "\n",
    "sd_sigcrop = hs.load('/home/johannes/Desktop/Link to Documents/Materialfysikk/PROJECT/Project/crops/num3/full_sd_sigcrop.hdf5')\n",
    "sd_data=sd_sigcrop.data.mean(axis=2).mean(axis=2)\n",
    "overv=hs.load(fname_haadf1)\n",
    "ov_data=overv.data\n",
    "\n",
    "pts1 = np.float32([[103,133],[89,72]])\n",
    "pts2 = np.float32([[50,53],[131,53]])\n",
    "angle1=np.arctan2(pts1[0,1]-pts1[1,1],pts1[0,0]-pts1[1,0])\n",
    "angle2=np.arctan2(pts2[0,1]-pts2[1,1],pts2[0,0]-pts2[1,0])\n",
    "rot = angle1-angle2\n",
    "scalex = (pts1[0,0]-pts1[1,0])/(pts2[0,0]-pts2[1,0])\n",
    "scaley = (pts1[0,0]-pts1[1,0])/(pts2[0,0]-pts2[1,0])\n",
    "\n",
    "shape1 = sd_data.shape\n",
    "shape2=ov_data.shape\n",
    "offsetx = (pts2[0,0]-pts1[0,0])\n",
    "print(scalex,scaley)\n",
    "\n",
    "\n",
    "plt.close('all')\n",
    "print(rot)\n",
    "plt.figure()\n",
    "sd_data=transform.rotate(sd_data,np.rad2deg(rot))\n",
    "\n",
    "sd_data=transform.resize(sd_data,overv.data.shape)\n",
    "plt.imshow(sd_data)\n",
    "sd_data=transform.rescale(sd_data,-scalex)\n",
    "plt.figure()\n",
    "plt.imshow(sd_data)\n",
    "\n",
    "plt.figure()\n",
    "plt.imshow(overv.data)\n",
    "\n",
    "#plt.figure()\n",
    "#plt.imshow(scp.ndimage.affine_transform(sd_sigcrop.mean(axis=2).mean(axis=2)))\n",
    "#sd_sigcrop.plot()\n",
    "print(angle1,angle2)"
   ]
  },
  {
   "cell_type": "code",
   "execution_count": null,
   "metadata": {
    "collapsed": true
   },
   "outputs": [],
   "source": [
    "overv.plot()"
   ]
  },
  {
   "cell_type": "code",
   "execution_count": null,
   "metadata": {
    "collapsed": true
   },
   "outputs": [],
   "source": [
    "sd.plot()"
   ]
  },
  {
   "cell_type": "markdown",
   "metadata": {},
   "source": [
    "## Old attempt"
   ]
  },
  {
   "cell_type": "code",
   "execution_count": null,
   "metadata": {
    "collapsed": false
   },
   "outputs": [],
   "source": [
    "import cv2\n",
    "#plt.figure('thresh')\n",
    "#plt.imshow(data_threshold)\n",
    "#plt.figure()\n",
    "# sd_dat = data_threshold.astype('uint8')\n",
    "# sd_dat[sd_dat<180]=0\n",
    "# sd_dat[sd_dat>200]=0\n",
    "# plt.figure('sd')\n",
    "# plt.imshow(sd_dat)\n",
    "# se_dat = sped_data.astype('uint8')\n",
    "# plt.figure('se')\n",
    "# plt.imshow(se_dat)\n",
    "se_dat=sd_image.astype('uint8')\n",
    "sd_dat=overv_image.astype('uint8')\n",
    "sz = sd_dat.shape\n",
    "\n",
    "warp_mode = cv2.MOTION_EUCLIDEAN\n",
    "warp_matrix = np.eye(2, 3, dtype=np.float32)\n",
    "number_of_iterations = int(1e8)\n",
    "termination_eps = .8\n",
    "criteria = (cv2.TERM_CRITERIA_EPS | cv2.TERM_CRITERIA_COUNT, number_of_iterations,  termination_eps)\n",
    "(cc, warp_matrix) = cv2.findTransformECC (sd_dat, se_dat, warp_matrix, warp_mode, criteria)\n",
    "\n",
    "aligned = cv2.warpAffine(se_dat, warp_matrix, (sz[1],sz[0]), flags=cv2.INTER_LINEAR + cv2.WARP_INVERSE_MAP)\n",
    "\n",
    "cv2.imshow('sd_dat',sd_dat)\n",
    "cv2.imshow('se_dat',se_dat)\n",
    "cv2.imshow('align',aligned)"
   ]
  },
  {
   "cell_type": "code",
   "execution_count": null,
   "metadata": {
    "collapsed": false
   },
   "outputs": [],
   "source": [
    "import os\n",
    "import scipy as sp\n",
    "import scipy.misc\n",
    "import imreg_dft as ird\n",
    "\n",
    "\n",
    "# basedir = '/home/johannes/Desktop/imreg_dft-2.0.0/resources/examples/'\n",
    "# # the TEMPLATE\n",
    "# im0 = sp.misc.imread(os.path.join(basedir, \"sample1.png\"), True)\n",
    "# # the image to be transformed\n",
    "# im1 = sp.misc.imread(os.path.join(basedir, \"sample3.png\"), True)\n",
    "\n",
    "# # se_dat[se_dat<50]=0\n",
    "# # se_dat[se_dat>200]=255\n",
    "# # sd_dat[sd_dat<50]=0\n",
    "# # sd_dat[sd_dat>2000]=255\n",
    "\n",
    "im0=overv_image\n",
    "im1=sd_image\n",
    "pil_img = Image.fromarray(sd_image)\n",
    "pil_img_resized=pil_img.resize(overv_image.shape)\n",
    "im1=np.asarray(pil_img_resized)\n",
    "print(im0.shape,im1.shape)\n",
    "\n",
    "\n",
    "\n",
    "\n",
    "\n",
    "result = ird.similarity(im0, im1, numiter=200,order=1)\n",
    "\n",
    "assert \"timg\" in result\n",
    "# Maybe we don't want to show plots all the time\n",
    "if os.environ.get(\"IMSHOW\", \"yes\") == \"yes\":\n",
    "    import matplotlib.pyplot as plt\n",
    "    ird.imshow(im0, im1, result['timg'])\n",
    "    plt.show()\n",
    "plt.figure()\n",
    "plt.imshow(im0)\n",
    "plt.figure()\n",
    "plt.imshow((result['timg']))"
   ]
  },
  {
   "cell_type": "code",
   "execution_count": null,
   "metadata": {
    "collapsed": false
   },
   "outputs": [],
   "source": []
  },
  {
   "cell_type": "code",
   "execution_count": null,
   "metadata": {
    "collapsed": false
   },
   "outputs": [],
   "source": [
    "im=cv2.imread('/home/johannes/Desktop/koietur.png')\n",
    "cv2.imshow('123',im)"
   ]
  },
  {
   "cell_type": "code",
   "execution_count": 3,
   "metadata": {
    "collapsed": false
   },
   "outputs": [
    {
     "name": "stderr",
     "output_type": "stream",
     "text": [
      "WARNING:hyperspy.signal:<Signal2D, title: , dimensions: (|144, 144)> data is replaced by its optimized copy\n"
     ]
    }
   ],
   "source": [
    "sd_full=hs.load('/home/johannes/Desktop/Link to Data/AstartDataJulie/diff-contact.blo')\n",
    "sd_full.T.plot()"
   ]
  },
  {
   "cell_type": "code",
   "execution_count": 5,
   "metadata": {
    "collapsed": false
   },
   "outputs": [],
   "source": [
    "sd_full_part=sd_full.isig[1.3:1.33,1.0:1.02]\n",
    "# sd_full_part.save('/home/johannes/Desktop/Project/full/sd_sigfull.hdf5')"
   ]
  },
  {
   "cell_type": "code",
   "execution_count": 14,
   "metadata": {
    "collapsed": false
   },
   "outputs": [],
   "source": [
    "# se_full=hs.load(fname_overview)\n",
    "sd_full_part2=sd_full_part.isig[1,0]\n",
    "np.save('/home/johannes/Desktop/Link to Documents/Materialfysikk/PROJECT/Project/machine_learning/sped_isig_cut_array',sd_full_part2.data)\n",
    "sd_full_part2.plot()"
   ]
  },
  {
   "cell_type": "code",
   "execution_count": 16,
   "metadata": {
    "collapsed": true
   },
   "outputs": [],
   "source": [
    "sd_full_part2.save('/home/johannes/Desktop/Link to Documents/Materialfysikk/PROJECT/Project/machine_learning/sped_isig_cut.hdf')"
   ]
  },
  {
   "cell_type": "code",
   "execution_count": null,
   "metadata": {
    "collapsed": false
   },
   "outputs": [],
   "source": [
    "sd_crop.T.plot()\n",
    "se_crop.T.plot()"
   ]
  },
  {
   "cell_type": "markdown",
   "metadata": {},
   "source": [
    "# HAADF"
   ]
  },
  {
   "cell_type": "code",
   "execution_count": 6,
   "metadata": {
    "collapsed": false
   },
   "outputs": [
    {
     "data": {
      "text/plain": [
       "<matplotlib.image.AxesImage at 0x7fde432780b8>"
      ]
     },
     "execution_count": 6,
     "metadata": {},
     "output_type": "execute_result"
    }
   ],
   "source": [
    "#HAADF w/ THRESHOLD\n",
    "data=np.copy(overv.data)\n",
    "data_threshold = np.copy(data)\n",
    "data_threshold=data_threshold/data_threshold.max()*255\n",
    "#plt.close('all')\n",
    "plt.figure('orig')\n",
    "plt.imshow(data_threshold)\n",
    "#t=2\n",
    "#data_threshold[data_threshold<160]=0\n",
    "#data_threshold[data>=t*data.min()]=255\n",
    "#\n",
    "#plt.figure('orig')\n",
    "#plt.imshow(data)\n",
    "plt.figure('thresh')\n",
    "plt.imshow(data_threshold)"
   ]
  },
  {
   "cell_type": "markdown",
   "metadata": {},
   "source": [
    "# Try EDX instead"
   ]
  },
  {
   "cell_type": "code",
   "execution_count": null,
   "metadata": {
    "collapsed": false
   },
   "outputs": [],
   "source": [
    "edx=hs.load(fname_nwcontact)\n",
    "edx.change_dtype('float16')\n",
    "edx.decomposition()\n",
    "edx.plot()"
   ]
  },
  {
   "cell_type": "code",
   "execution_count": null,
   "metadata": {
    "collapsed": false
   },
   "outputs": [],
   "source": [
    "edx2=edx.get_decomposition_model([1])"
   ]
  },
  {
   "cell_type": "code",
   "execution_count": null,
   "metadata": {
    "collapsed": true
   },
   "outputs": [],
   "source": [
    "edx2=edx2.isig[9.:10.8]\n",
    "edx2.plot()\n",
    "# "
   ]
  },
  {
   "cell_type": "code",
   "execution_count": null,
   "metadata": {
    "collapsed": false
   },
   "outputs": [],
   "source": [
    "#edx2_data=edx2.data.sum(axis=2)\n",
    "edx2.save('/home/johannes/Desktop/Link to Documents/Materialfysikk/PROJECT/Project/machine_learning/edx.hdf')"
   ]
  },
  {
   "cell_type": "code",
   "execution_count": 9,
   "metadata": {
    "collapsed": true
   },
   "outputs": [],
   "source": [
    "edx2=hs.load('/home/johannes/Desktop/Link to Documents/Materialfysikk/PROJECT/Project/machine_learning/edx.hdf')"
   ]
  },
  {
   "cell_type": "code",
   "execution_count": 12,
   "metadata": {
    "collapsed": false
   },
   "outputs": [],
   "source": [
    "from skimage import filters\n",
    "s=filters.sobel(edx2.data[:,:,31])\n"
   ]
  },
  {
   "cell_type": "code",
   "execution_count": 13,
   "metadata": {
    "collapsed": false
   },
   "outputs": [
    {
     "data": {
      "text/plain": [
       "<matplotlib.image.AxesImage at 0x7fd811e63978>"
      ]
     },
     "execution_count": 13,
     "metadata": {},
     "output_type": "execute_result"
    }
   ],
   "source": [
    "plt.figure()\n",
    "plt.imshow(s)"
   ]
  },
  {
   "cell_type": "markdown",
   "metadata": {},
   "source": [
    "# New attempt for EDX"
   ]
  },
  {
   "cell_type": "code",
   "execution_count": 2,
   "metadata": {
    "collapsed": true
   },
   "outputs": [],
   "source": [
    "edx2=hs.load('/home/johannes/Desktop/Link to Documents/Materialfysikk/PROJECT/Project/machine_learning/edx.hdf')\n",
    "#np.save('/home/johannes/Desktop/Link to Documents/Materialfysikk/PROJECT/Project/machine_learning/edx_array', edx2.data.sum(axis=2))\n",
    "edx_data=edx2.data[:,:,31]\n",
    "np.save('/home/johannes/Desktop/Link to Documents/Materialfysikk/PROJECT/Project/machine_learning/edx_array_result', edx_data)"
   ]
  },
  {
   "cell_type": "markdown",
   "metadata": {},
   "source": [
    "# SPED"
   ]
  },
  {
   "cell_type": "code",
   "execution_count": null,
   "metadata": {
    "collapsed": false
   },
   "outputs": [],
   "source": [
    "#SPED\n",
    "# sd = hs.load('/home/johannes/Desktop/Project/crops/num1/sd_crop_vacuum.blo')\n",
    "sd = hs.load(fname_diff)\n",
    "#sd.plot()"
   ]
  },
  {
   "cell_type": "code",
   "execution_count": null,
   "metadata": {
    "collapsed": false
   },
   "outputs": [],
   "source": [
    "sd_sigcrop = sd.isig[56:60,66:70]\n",
    "#sd_sigcrop.plot()\n",
    "sd_sigcrop.save('/home/johannes/Desktop/Project/crops/num3/full_sd_sigcrop.hdf5')\n",
    "#sped_data = sd_sigcrop.data.copy()\n"
   ]
  },
  {
   "cell_type": "code",
   "execution_count": null,
   "metadata": {
    "collapsed": true
   },
   "outputs": [],
   "source": [
    "sd.crop('x',start=0,end=50)\n",
    "sd.crop('y',start=75,end=120)\n",
    "sd.save('/home/johannes/Desktop/Project/crops/num1/sd_crop_vacuum.blo')\n",
    "#sd.plot()"
   ]
  },
  {
   "cell_type": "code",
   "execution_count": null,
   "metadata": {
    "collapsed": false,
    "scrolled": true
   },
   "outputs": [],
   "source": [
    "sd.change_dtype('float32')\n",
    "sd.decomposition()"
   ]
  },
  {
   "cell_type": "code",
   "execution_count": null,
   "metadata": {
    "collapsed": false
   },
   "outputs": [],
   "source": [
    "sd.blind_source_separation(2)\n"
   ]
  },
  {
   "cell_type": "code",
   "execution_count": null,
   "metadata": {
    "collapsed": false
   },
   "outputs": [],
   "source": [
    "a=sd.get_bss_loadings()\n",
    "plt.figure()\n",
    "plt.imshow(a.data[1,:,:])"
   ]
  },
  {
   "cell_type": "code",
   "execution_count": null,
   "metadata": {
    "collapsed": true
   },
   "outputs": [],
   "source": []
  },
  {
   "cell_type": "code",
   "execution_count": null,
   "metadata": {
    "collapsed": true
   },
   "outputs": [],
   "source": [
    "plt.close('all')"
   ]
  },
  {
   "cell_type": "markdown",
   "metadata": {},
   "source": [
    "# VIRTUAL ANNULAR DARK FIELD"
   ]
  },
  {
   "cell_type": "code",
   "execution_count": 5,
   "metadata": {
    "collapsed": false
   },
   "outputs": [],
   "source": [
    "overv=hs.load(fname_haadf1)\n",
    "sd = hs.load(fname_diff)"
   ]
  },
  {
   "cell_type": "code",
   "execution_count": null,
   "metadata": {
    "collapsed": false
   },
   "outputs": [],
   "source": [
    "R = sd.data.shape[3]\n",
    "#sigdata = sd.data\n",
    "plt.close('all')\n",
    "import matplotlib.pyplot as plt\n",
    "import scipy as sp\n",
    "import scipy.misc\n",
    "import imreg_dft as ird\n",
    "import os\n",
    "\n",
    "overv.data = overv.data.astype('float64')/np.max(overv.data)*255\n",
    "overv_image = overv.data.astype('uint8')\n",
    "\n",
    "sd.data=sd.data[:,:sd.data.shape[0],:,:]\n",
    "for p in np.linspace(0,1,num=20):\n",
    "    x=np.arange(0,R)\n",
    "    y=np.arange(0,R)\n",
    "    for i in x:\n",
    "        for j in y:\n",
    "            if np.sqrt((i-R/2)**2+(j-R/2)**2)<p*R/2:\n",
    "                sd.data[:,:,i,j] = 0\n",
    "#     plt.figure(str(p))\n",
    "    data = sd.data.mean(axis=2).mean(axis=2)\n",
    "    data = (data.astype('float16')/np.max(data)*255).astype('uint8')\n",
    "#     plt.imshow(data/np.max(data)*255)\n",
    "    im0=overv_image\n",
    "    im1=data\n",
    "#     im1=im1[:,:im1.shape[0]]\n",
    "    pil_img = Image.fromarray(im1)\n",
    "    pil_img_resized=pil_img.resize(overv_image.shape)\n",
    "    im1=np.asarray(pil_img_resized)\n",
    "    result = ird.similarity(im0, im1, numiter=10,order=1)\n",
    "    ird.imshow(im0, im1, result['timg'])\n",
    "    \n",
    "\n",
    "plt.show()\n",
    "# plt.figure()\n",
    "# overv.data = overv.data.astype('float64')/np.max(overv.data)*255\n",
    "#sd.plot()"
   ]
  },
  {
   "cell_type": "code",
   "execution_count": 4,
   "metadata": {
    "collapsed": false
   },
   "outputs": [],
   "source": [
    "overv.data = overv.data.astype('float64')/np.max(overv.data)*255\n",
    "overv_image = overv.data.astype('uint8')\n",
    "\n",
    "R = sd.data.shape[3]\n",
    "p=1\n",
    "x=np.arange(0,R)\n",
    "y=np.arange(0,R)\n",
    "for i in x:\n",
    "    for j in y:\n",
    "        if np.sqrt((i-R/2)**2+(j-R/2)**2)<p*R/2:\n",
    "            sd.data[:,:,i,j] = 0\n",
    "\n",
    "sd_image = sd.data.mean(axis=2).mean(axis=2)\n",
    "sd_image = (sd_image.astype('float16')/np.max(sd_image)*255).astype('uint8')"
   ]
  },
  {
   "cell_type": "code",
   "execution_count": 5,
   "metadata": {
    "collapsed": false
   },
   "outputs": [
    {
     "data": {
      "text/plain": [
       "<matplotlib.image.AxesImage at 0x7fd4fc2a9f98>"
      ]
     },
     "execution_count": 5,
     "metadata": {},
     "output_type": "execute_result"
    }
   ],
   "source": [
    "# sd_image=sd_image/np.max(sd_image)*np.max(overv_image)\n",
    "# a1=(sd_image>127).astype('int')\n",
    "# a2=(sd_image<154).astype('int')\n",
    "# a=(a2+a1)==2\n",
    "# sd_image[a]=0\n",
    "# b1=(overv_image>170).astype(int)\n",
    "# b2=(overv_image<200).astype(int)\n",
    "# b=(b1+b2)==2\n",
    "# overv_image[b]=0\n",
    "\n",
    "# sd_image=sd_image[:,:sd_image.shape[0]]\n",
    "# sd_image=np.asarray(Image.fromarray(sd_image).resize((400,400)))\n",
    "# overv_image=np.asarray(Image.fromarray(overv_image).resize((400,400)))\n",
    "\n",
    "\n",
    "# # overv_imag\n",
    "plt.close('all')\n",
    "\n",
    "plt.figure('over')\n",
    "plt.imshow(overv_image)\n",
    "plt.figure('sd')\n",
    "plt.imshow(sd_image)"
   ]
  },
  {
   "cell_type": "code",
   "execution_count": 23,
   "metadata": {
    "collapsed": false
   },
   "outputs": [],
   "source": [
    "plt.close('all')\n",
    "edx2=edx2.isig[31]\n",
    "edx_data=edx2.data"
   ]
  },
  {
   "cell_type": "code",
   "execution_count": 24,
   "metadata": {
    "collapsed": false
   },
   "outputs": [
    {
     "data": {
      "text/plain": [
       "<matplotlib.image.AxesImage at 0x7fcd94443898>"
      ]
     },
     "execution_count": 24,
     "metadata": {},
     "output_type": "execute_result"
    }
   ],
   "source": [
    "plt.imshow(edx_data)"
   ]
  },
  {
   "cell_type": "code",
   "execution_count": null,
   "metadata": {
    "collapsed": false
   },
   "outputs": [],
   "source": [
    "import scipy as sp\n",
    "import scipy.misc\n",
    "import imreg_dft as ird\n",
    "import os\n",
    "plt.close('all')\n",
    "\n",
    "im0=overv_image\n",
    "im1 = sd_image.copy()\n",
    "# plt.figure('bef')\n",
    "# plt.imshow(im1)\n",
    "# print (im1.shape)\n",
    "# im1=im1[150:300,0:150]\n",
    "# plt.figure('after')\n",
    "# plt.imshow(im1)\n",
    "# print(im1.shape)\n",
    "# pil_img = Image.fromarray(im1)\n",
    "# pil_img_resized=pil_img.resize(overv_image.shape)\n",
    "# im1=np.asarray(pil_img_resized)\n",
    "# print(im0.shape,im1.shape)\n",
    "\n",
    "\n",
    "# for num in np.linspace(11,22,10):\n",
    "result = ird.similarity(im0, im1, numiter=10, order=1)\n",
    "print(int(0),result['success'])\n",
    "\n",
    "assert \"timg\" in result\n",
    "# Maybe we don't want to show plots all the time\n",
    "if os.environ.get(\"IMSHOW\", \"yes\") == \"yes\":\n",
    "    ird.imshow(im0, im1, result['timg'])\n",
    "    plt.show()\n",
    "plt.figure()\n",
    "plt.imshow(im0)\n",
    "plt.figure()\n",
    "plt.imshow((result['timg']))\n",
    "print(result['success'])"
   ]
  },
  {
   "cell_type": "markdown",
   "metadata": {},
   "source": [
    "# OPENCV Feature Matching"
   ]
  },
  {
   "cell_type": "code",
   "execution_count": 59,
   "metadata": {
    "collapsed": false
   },
   "outputs": [],
   "source": [
    "import cv2\n",
    "orb=cv2.ORB_create()\n",
    "img2=sd_trans.astype('uint8')\n",
    "\n",
    "img1=(edx.data.astype('float64')/np.max(edx.data)*255).astype('uint8')\n",
    "plt.figure()\n",
    "plt.imshow(img1)\n",
    "kp1, des1 = orb.detectAndCompute(img1,None)\n",
    "kp2, des2 = orb.detectAndCompute(img2,None)"
   ]
  },
  {
   "cell_type": "code",
   "execution_count": 60,
   "metadata": {
    "collapsed": false
   },
   "outputs": [
    {
     "name": "stdout",
     "output_type": "stream",
     "text": [
      "<DMatch 0x7fde3f032ad0>\n"
     ]
    },
    {
     "data": {
      "text/plain": [
       "(<matplotlib.image.AxesImage at 0x7fde381c22e8>, None)"
      ]
     },
     "execution_count": 60,
     "metadata": {},
     "output_type": "execute_result"
    }
   ],
   "source": [
    " # create BFMatcher object\n",
    "bf = cv2.BFMatcher(cv2.NORM_HAMMING, crossCheck=True)\n",
    " \n",
    "# Match descriptors.\n",
    "matches = bf.match(des1,des2)\n",
    "\n",
    "print(matches[0])\n",
    " \n",
    "# Sort them in the order of their distance.\n",
    "matches = sorted(matches, key = lambda x:x.distance)\n",
    " \n",
    "# Draw first 10 matches.\n",
    "img3 = cv2.drawMatches(img1,kp1,img2,kp2,matches[:50], outImg=0, flags=2)\n",
    "\n",
    "plt.figure()\n",
    "plt.imshow(img3),plt.show()\n"
   ]
  },
  {
   "cell_type": "code",
   "execution_count": 25,
   "metadata": {
    "collapsed": false
   },
   "outputs": [
    {
     "ename": "AttributeError",
     "evalue": "module 'cv2' has no attribute 'sift'",
     "output_type": "error",
     "traceback": [
      "\u001b[0;31m---------------------------------------------------------------------------\u001b[0m",
      "\u001b[0;31mAttributeError\u001b[0m                            Traceback (most recent call last)",
      "\u001b[0;32m<ipython-input-25-e07a867e1194>\u001b[0m in \u001b[0;36m<module>\u001b[0;34m()\u001b[0m\n\u001b[1;32m      5\u001b[0m \u001b[0;34m\u001b[0m\u001b[0m\n\u001b[1;32m      6\u001b[0m \u001b[0;31m# Initiate SIFT detector\u001b[0m\u001b[0;34m\u001b[0m\u001b[0;34m\u001b[0m\u001b[0m\n\u001b[0;32m----> 7\u001b[0;31m \u001b[0msift\u001b[0m \u001b[0;34m=\u001b[0m \u001b[0mcv2\u001b[0m\u001b[0;34m.\u001b[0m\u001b[0msift\u001b[0m\u001b[0;34m(\u001b[0m\u001b[0;34m)\u001b[0m\u001b[0;34m\u001b[0m\u001b[0m\n\u001b[0m\u001b[1;32m      8\u001b[0m \u001b[0;34m\u001b[0m\u001b[0m\n\u001b[1;32m      9\u001b[0m \u001b[0;31m# find the keypoints and descriptors with SIFT\u001b[0m\u001b[0;34m\u001b[0m\u001b[0;34m\u001b[0m\u001b[0m\n",
      "\u001b[0;31mAttributeError\u001b[0m: module 'cv2' has no attribute 'sift'"
     ]
    }
   ],
   "source": []
  },
  {
   "cell_type": "markdown",
   "metadata": {},
   "source": [
    "# Machine Learning on EDX, Aperture on SPED"
   ]
  },
  {
   "cell_type": "code",
   "execution_count": 100,
   "metadata": {
    "collapsed": false
   },
   "outputs": [
    {
     "name": "stdout",
     "output_type": "stream",
     "text": [
      "-1.578232748\n"
     ]
    },
    {
     "data": {
      "text/plain": [
       "<matplotlib.image.AxesImage at 0x7fd80d892b38>"
      ]
     },
     "execution_count": 100,
     "metadata": {},
     "output_type": "execute_result"
    }
   ],
   "source": [
    "edx_data = np.load('/home/johannes/Desktop/Link to Documents/Materialfysikk/PROJECT/Project/machine_learning/edx_array_result.npy')\n",
    "sped_data=np.load('/home/johannes/Desktop/Link to Documents/Materialfysikk/PROJECT/Project/machine_learning/sped_isig_cut_array.npy')\n",
    "\n",
    "plt.figure('edx')\n",
    "plt.imshow(edx_data)\n",
    "plt.figure('sped')\n",
    "plt.imshow(sped_data)\n",
    "\n",
    "# edx_data[edx_data>1]=255\n",
    "# edx_data[edx_data<=1]=1\n",
    "# plt.figure('edx2')\n",
    "# plt.imshow(edx_data)\n",
    "# sped_data[sped_data<200]=0\n",
    "# plt.figure('sped2')\n",
    "# plt.imshow(sped_data)\n",
    "\n",
    "plt.close('all')\n",
    "print(edx_data.min().min())\n",
    "edx_data-=edx_data.min().min()\n",
    "plt.figure()\n",
    "plt.imshow(edx_data)\n",
    "edx_data=edx_data*255/edx_data.max()\n",
    "# for i in range(3):\n",
    "#     sped_data=np.rot90(sped_data)\n",
    "plt.figure()\n",
    "plt.imshow(sped_data)"
   ]
  },
  {
   "cell_type": "code",
   "execution_count": 101,
   "metadata": {
    "collapsed": false
   },
   "outputs": [
    {
     "name": "stdout",
     "output_type": "stream",
     "text": [
      "(130, 93)\n",
      "(130, 186)\n"
     ]
    },
    {
     "data": {
      "text/plain": [
       "<matplotlib.image.AxesImage at 0x7fd80d987588>"
      ]
     },
     "execution_count": 101,
     "metadata": {},
     "output_type": "execute_result"
    }
   ],
   "source": [
    "\n",
    "print(sped_data.shape)\n",
    "print(edx_data.shape)\n",
    "sped_data=np.hstack((sped_data,np.zeros((130,93))))\n",
    "\n",
    "plt.close('all')\n",
    "plt.figure()\n",
    "plt.imshow(sped_data)\n",
    "plt.figure()\n",
    "plt.imshow(edx_data)"
   ]
  },
  {
   "cell_type": "code",
   "execution_count": 110,
   "metadata": {
    "collapsed": false
   },
   "outputs": [
    {
     "name": "stdout",
     "output_type": "stream",
     "text": [
      "(2048, 2048) (2048, 2048)\n",
      "0.00607710703822\n"
     ]
    }
   ],
   "source": [
    "import scipy as sp\n",
    "import scipy.misc\n",
    "import imreg_dft as ird\n",
    "import os\n",
    "plt.close('all')\n",
    "\n",
    "im1=edx_data.astype('uint8')\n",
    "# im0 = sped_data.astype('uint8')\n",
    "im0=overv.data.astype('uint8')\n",
    "# plt.figure('bef')\n",
    "# plt.imshow(im1)\n",
    "# print (im1.shape)\n",
    "# im1=im1[150:300,0:150]\n",
    "# plt.figure('after')\n",
    "# plt.imshow(im1)\n",
    "# print(im1.shape)\n",
    "pil_img = Image.fromarray(im1)\n",
    "pil_img_resized=pil_img.resize((im0.shape[1],im0.shape[0]))\n",
    "im1=np.asarray(pil_img_resized)\n",
    "print(im0.shape,im1.shape)\n",
    "\n",
    "\n",
    "# for num in np.linspace(11,22,10):\n",
    "d={'angle':(0.0,0.001)}\n",
    "result = ird.similarity(im0, im1, numiter=1, order=1, constraints=d)\n",
    "# print(int(num),result['success'])\n",
    "\n",
    "assert \"timg\" in result\n",
    "# Maybe we don't want to show plots all the time\n",
    "if os.environ.get(\"IMSHOW\", \"yes\") == \"yes\":\n",
    "    ird.imshow(im0, im1, result['timg'])\n",
    "    plt.show()\n",
    "plt.figure()\n",
    "plt.imshow(im0)\n",
    "plt.figure()\n",
    "plt.imshow((result['timg']))\n",
    "print(result['success'])"
   ]
  },
  {
   "cell_type": "code",
   "execution_count": 61,
   "metadata": {
    "collapsed": false
   },
   "outputs": [
    {
     "ename": "error",
     "evalue": "/home/johannes/temptempt/opencv-3/modules/video/src/ecc.cpp:530: error: (-7) The algorithm stopped before its convergence. The correlation is going to be minimized. Images may be uncorrelated or non-overlapped in function findTransformECC\n",
     "output_type": "error",
     "traceback": [
      "\u001b[0;31m---------------------------------------------------------------------------\u001b[0m",
      "\u001b[0;31merror\u001b[0m                                     Traceback (most recent call last)",
      "\u001b[0;32m<ipython-input-61-8ba488559f0f>\u001b[0m in \u001b[0;36m<module>\u001b[0;34m()\u001b[0m\n\u001b[1;32m      9\u001b[0m \u001b[0mtermination_eps\u001b[0m \u001b[0;34m=\u001b[0m \u001b[0;36m.1\u001b[0m\u001b[0;34m\u001b[0m\u001b[0m\n\u001b[1;32m     10\u001b[0m \u001b[0mcriteria\u001b[0m \u001b[0;34m=\u001b[0m \u001b[0;34m(\u001b[0m\u001b[0mcv2\u001b[0m\u001b[0;34m.\u001b[0m\u001b[0mTERM_CRITERIA_EPS\u001b[0m \u001b[0;34m|\u001b[0m \u001b[0mcv2\u001b[0m\u001b[0;34m.\u001b[0m\u001b[0mTERM_CRITERIA_COUNT\u001b[0m\u001b[0;34m,\u001b[0m \u001b[0mnumber_of_iterations\u001b[0m\u001b[0;34m,\u001b[0m  \u001b[0mtermination_eps\u001b[0m\u001b[0;34m)\u001b[0m\u001b[0;34m\u001b[0m\u001b[0m\n\u001b[0;32m---> 11\u001b[0;31m \u001b[0;34m(\u001b[0m\u001b[0mcc\u001b[0m\u001b[0;34m,\u001b[0m \u001b[0mwarp_matrix\u001b[0m\u001b[0;34m)\u001b[0m \u001b[0;34m=\u001b[0m \u001b[0mcv2\u001b[0m\u001b[0;34m.\u001b[0m\u001b[0mfindTransformECC\u001b[0m \u001b[0;34m(\u001b[0m\u001b[0msd_dat\u001b[0m\u001b[0;34m,\u001b[0m \u001b[0mse_dat\u001b[0m\u001b[0;34m,\u001b[0m \u001b[0mwarp_matrix\u001b[0m\u001b[0;34m,\u001b[0m \u001b[0mwarp_mode\u001b[0m\u001b[0;34m,\u001b[0m \u001b[0mcriteria\u001b[0m\u001b[0;34m)\u001b[0m\u001b[0;34m\u001b[0m\u001b[0m\n\u001b[0m\u001b[1;32m     12\u001b[0m \u001b[0;34m\u001b[0m\u001b[0m\n\u001b[1;32m     13\u001b[0m \u001b[0maligned\u001b[0m \u001b[0;34m=\u001b[0m \u001b[0mcv2\u001b[0m\u001b[0;34m.\u001b[0m\u001b[0mwarpAffine\u001b[0m\u001b[0;34m(\u001b[0m\u001b[0mse_dat\u001b[0m\u001b[0;34m,\u001b[0m \u001b[0mwarp_matrix\u001b[0m\u001b[0;34m,\u001b[0m \u001b[0;34m(\u001b[0m\u001b[0msz\u001b[0m\u001b[0;34m[\u001b[0m\u001b[0;36m1\u001b[0m\u001b[0;34m]\u001b[0m\u001b[0;34m,\u001b[0m\u001b[0msz\u001b[0m\u001b[0;34m[\u001b[0m\u001b[0;36m0\u001b[0m\u001b[0;34m]\u001b[0m\u001b[0;34m)\u001b[0m\u001b[0;34m,\u001b[0m \u001b[0mflags\u001b[0m\u001b[0;34m=\u001b[0m\u001b[0mcv2\u001b[0m\u001b[0;34m.\u001b[0m\u001b[0mINTER_LINEAR\u001b[0m \u001b[0;34m+\u001b[0m \u001b[0mcv2\u001b[0m\u001b[0;34m.\u001b[0m\u001b[0mWARP_INVERSE_MAP\u001b[0m\u001b[0;34m)\u001b[0m\u001b[0;34m\u001b[0m\u001b[0m\n",
      "\u001b[0;31merror\u001b[0m: /home/johannes/temptempt/opencv-3/modules/video/src/ecc.cpp:530: error: (-7) The algorithm stopped before its convergence. The correlation is going to be minimized. Images may be uncorrelated or non-overlapped in function findTransformECC\n"
     ]
    }
   ],
   "source": [
    "import cv2\n",
    "sz = sped_data.shape\n",
    "se_dat=sped_data.astype('uint8')\n",
    "sd_dat=edx_data.astype('uint8')\n",
    "\n",
    "warp_mode = cv2.MOTION_EUCLIDEAN\n",
    "warp_matrix = np.eye(2, 3, dtype=np.float32)\n",
    "number_of_iterations = 1000000000\n",
    "termination_eps = .1\n",
    "criteria = (cv2.TERM_CRITERIA_EPS | cv2.TERM_CRITERIA_COUNT, number_of_iterations,  termination_eps)\n",
    "(cc, warp_matrix) = cv2.findTransformECC (sd_dat, se_dat, warp_matrix, warp_mode, criteria)\n",
    "\n",
    "aligned = cv2.warpAffine(se_dat, warp_matrix, (sz[1],sz[0]), flags=cv2.INTER_LINEAR + cv2.WARP_INVERSE_MAP)\n",
    "\n",
    "cv2.imshow('sd_dat',sd_dat)\n",
    "cv2.imshow('se_dat',se_dat)\n",
    "cv2.imshow('align',aligned)"
   ]
  },
  {
   "cell_type": "code",
   "execution_count": 1,
   "metadata": {
    "collapsed": false
   },
   "outputs": [
    {
     "ename": "ImportError",
     "evalue": "No module named 'image_registration'",
     "output_type": "error",
     "traceback": [
      "\u001b[0;31m---------------------------------------------------------------------------\u001b[0m",
      "\u001b[0;31mImportError\u001b[0m                               Traceback (most recent call last)",
      "\u001b[0;32m<ipython-input-1-2c1e148c42dc>\u001b[0m in \u001b[0;36m<module>\u001b[0;34m()\u001b[0m\n\u001b[0;32m----> 1\u001b[0;31m \u001b[0;32mimport\u001b[0m \u001b[0mimage_registration\u001b[0m\u001b[0;34m\u001b[0m\u001b[0m\n\u001b[0m",
      "\u001b[0;31mImportError\u001b[0m: No module named 'image_registration'"
     ]
    }
   ],
   "source": [
    "import image_registration"
   ]
  }
 ],
 "metadata": {
  "kernelspec": {
   "display_name": "Python 3",
   "language": "python",
   "name": "python3"
  },
  "language_info": {
   "codemirror_mode": {
    "name": "ipython",
    "version": 3
   },
   "file_extension": ".py",
   "mimetype": "text/x-python",
   "name": "python",
   "nbconvert_exporter": "python",
   "pygments_lexer": "ipython3",
   "version": "3.5.2"
  }
 },
 "nbformat": 4,
 "nbformat_minor": 1
}
