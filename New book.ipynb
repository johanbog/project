{
 "cells": [
  {
   "cell_type": "code",
   "execution_count": 1,
   "metadata": {
    "collapsed": false
   },
   "outputs": [
    {
     "name": "stderr",
     "output_type": "stream",
     "text": [
      "unbcf_fast library is not present...\n",
      "Falling back to slow python only backend.\n"
     ]
    }
   ],
   "source": [
    "import hyperspy.api as hs\n",
    "# from PIL import Image\n",
    "%matplotlib qt4\n",
    "import matplotlib.pyplot as plt\n",
    "import numpy as np\n",
    "import cv2\n",
    "import scipy as scp\n",
    "import imreg_dft as ird\n",
    "import os\n",
    "from skimage import transform\n",
    "\n",
    "\n",
    "fname_diff=\"/home/johannes/Desktop/Link to Data/AstartDataJulie/160512_SC239_X_overview_60k.blo\"\n",
    "fname_crop = \"/home/johannes/Desktop/Link to Data/AstartDataJulie/diff-contact.blo\"\n",
    "fname_smallgrains = \"/home/johannes/Desktop/Link to Data/160309JulieContact/SmallGrains_EDS Spectrum Image.dm3\"\n",
    "fname_nwcorner = \"/home/johannes/Desktop/Link to Data/160309JulieContact/NWcorner_EDS Spectrum Image.dm3\"\n",
    "fname_nwcontact = \"/home/johannes/Desktop/Link to Data/160309JulieContact/NWcontact_EDS Spectrum Image.dm3\"\n",
    "fname_contact='/media/johannes/149830F39830D4C8/Users/Johannes/OneDrive/Link to Documents/Materialfysikk/Data/160309JulieContact/contact_EDS Spectrum Image.dm3'\n",
    "\n",
    "#USE HAADF, NOT BFTEM\n",
    "fname_overview='/home/johannes/Desktop/Link to Data/160309JulieContact/BFTEM_overview.dm3'\n",
    "fname_haadf1=   '/home/johannes/Desktop/Link to Data/160309JulieContact/HAADF_250k_3C.dm3'\n",
    "fname_haadf2=   '/home/johannes/Desktop/Link to Data/160309JulieContact/HAADF_250k_8C.dm3'\n",
    "fname_haadf3=   '/home/johannes/Desktop/Link to Data/160309JulieContact/HAADF_500k_8C.dm3'"
   ]
  },
  {
   "cell_type": "code",
   "execution_count": null,
   "metadata": {
    "collapsed": false
   },
   "outputs": [],
   "source": [
    "# sd=hs.load(fname_diff)\n",
    "# overv=hs.load(fname_haadf1)\n",
    "# overv2=hs.load(fname_overview)\n",
    "# edx=hs.load(fname_nwcontact)\n",
    "# edx.metadata\n",
    "sd_sigcrop = hs.load('/home/johannes/Desktop/Link to Documents/Materialfysikk/PROJECT/Project/crops/num3/full_sd_sigcrop.hdf5')\n",
    "edx=hs.load('/home/johannes/Desktop/Link to Documents/Materialfysikk/PROJECT/Project/machine_learning/edx.hdf')\n",
    "# edx.plot()"
   ]
  },
  {
   "cell_type": "code",
   "execution_count": 17,
   "metadata": {
    "collapsed": false
   },
   "outputs": [],
   "source": [
    "sd_data=np.load('/home/johannes/Desktop/Link to Documents/Materialfysikk/PROJECT/Project/Oct9/sd_picture.npy')\n",
    "se_data=np.load('/home/johannes/Desktop/Link to Documents/Materialfysikk/PROJECT/Project/Oct9/se_picture.npy')\n",
    "sd_data_new=np.load('/home/johannes/Desktop/Link to Documents/Materialfysikk/PROJECT/Project/Oct9/sd_picture_uint8_rotated.npy')\n",
    "se_data_sd=np.load('/home/johannes/Desktop/Link to Documents/Materialfysikk/PROJECT/Project/Oct9/se_picture_uint8.npy')"
   ]
  },
  {
   "cell_type": "code",
   "execution_count": 44,
   "metadata": {
    "collapsed": false
   },
   "outputs": [
    {
     "ename": "NameError",
     "evalue": "name 'sd_sigcrop' is not defined",
     "output_type": "error",
     "traceback": [
      "\u001b[0;31m---------------------------------------------------------------------------\u001b[0m",
      "\u001b[0;31mNameError\u001b[0m                                 Traceback (most recent call last)",
      "\u001b[0;32m<ipython-input-44-af2c46c7ea86>\u001b[0m in \u001b[0;36m<module>\u001b[0;34m()\u001b[0m\n\u001b[0;32m----> 1\u001b[0;31m \u001b[0msd_data\u001b[0m\u001b[0;34m=\u001b[0m\u001b[0msd_sigcrop\u001b[0m\u001b[0;34m.\u001b[0m\u001b[0mdata\u001b[0m\u001b[0;34m.\u001b[0m\u001b[0mcopy\u001b[0m\u001b[0;34m(\u001b[0m\u001b[0;34m)\u001b[0m\u001b[0;34m\u001b[0m\u001b[0m\n\u001b[0m\u001b[1;32m      2\u001b[0m \u001b[0msd_data\u001b[0m\u001b[0;34m=\u001b[0m\u001b[0msd_data\u001b[0m\u001b[0;34m.\u001b[0m\u001b[0mmean\u001b[0m\u001b[0;34m(\u001b[0m\u001b[0maxis\u001b[0m\u001b[0;34m=\u001b[0m\u001b[0;36m2\u001b[0m\u001b[0;34m)\u001b[0m\u001b[0;34m.\u001b[0m\u001b[0mmean\u001b[0m\u001b[0;34m(\u001b[0m\u001b[0maxis\u001b[0m\u001b[0;34m=\u001b[0m\u001b[0;36m2\u001b[0m\u001b[0;34m)\u001b[0m\u001b[0;34m\u001b[0m\u001b[0m\n\u001b[1;32m      3\u001b[0m \u001b[0;34m\u001b[0m\u001b[0m\n\u001b[1;32m      4\u001b[0m \u001b[0;34m\u001b[0m\u001b[0m\n\u001b[1;32m      5\u001b[0m \u001b[0mse_data\u001b[0m\u001b[0;34m=\u001b[0m\u001b[0medx\u001b[0m\u001b[0;34m.\u001b[0m\u001b[0mdata\u001b[0m\u001b[0;34m.\u001b[0m\u001b[0mcopy\u001b[0m\u001b[0;34m(\u001b[0m\u001b[0;34m)\u001b[0m\u001b[0;34m\u001b[0m\u001b[0m\n",
      "\u001b[0;31mNameError\u001b[0m: name 'sd_sigcrop' is not defined"
     ]
    }
   ],
   "source": [
    "sd_data=sd_sigcrop.data.copy()\n",
    "sd_data=sd_data.mean(axis=2).mean(axis=2)\n",
    "\n",
    "\n",
    "se_data=edx.data.copy()\n",
    "# se_data=sd_data.copy()\n",
    "se_data=se_data.mean(axis=2)\n",
    "# overv=hs.load(fname_haadf1)\n",
    "# ov_data=overv.data\n",
    "\n",
    "pts1 = np.float32([[103,133],[89,72]])\n",
    "pts2 = np.float32([[50,53],[131,53]])\n",
    "angle1=np.arctan2(pts1[0,1]-pts1[1,1],pts1[0,0]-pts1[1,0])\n",
    "angle2=np.arctan2(pts2[0,1]-pts2[1,1],pts2[0,0]-pts2[1,0])\n",
    "rot = angle1-angle2\n",
    "scalex = (pts1[0,0]-pts1[1,0])/(pts2[0,0]-pts2[1,0])\n",
    "scaley = (pts1[0,0]-pts1[1,0])/(pts2[0,0]-pts2[1,0])\n",
    "\n",
    "shape1 = sd_data.shape\n",
    "# shape2=ov_data.shape\n",
    "offsetx = (pts2[0,0]-pts1[0,0])\n",
    "print(scalex,scaley)\n",
    "print(sd_data.shape),print(se_data.shape)#,print(ov_data.shape)\n",
    "#sd: 60k, 200x260\n",
    "#HAADF: 250k, 2048x2048\n",
    "#EDX: 600k, 130x186\n",
    "scale_sd_haadf = 60/250\n",
    "scale_sd_edx=60/600\n",
    "res_sd_edx=np.sqrt((200*200+260*260)/(130**2+186**2))#(2*2048*2048))\n",
    "# print(res_sd_edx)\n",
    "# print(scale_metadata)\n",
    "\n",
    "\n",
    "plt.close('all')\n",
    "print(rot)\n",
    "\n",
    "\n",
    "\n",
    "# sd_data_new=transform.rotate(sd_data,np.rad2deg(rot))\n",
    "sd_data_new=scp.ndimage.rotate(sd_data,angle=np.rad2deg(rot))\n",
    "# sd_data_new=sd_data\n",
    "print(res_sd_edx/scale_sd_edx)\n",
    "plt.figure('rescaled_meta')\n",
    "sd_data_new=(sd_data_new/sd_data_new.max()*255).astype('uint8')\n",
    "\n",
    "plt.imshow(sd_data_new)\n",
    "\n",
    "# plt.figure('overview')\n",
    "# plt.imshow(overv.data)\n",
    "\n",
    "plt.figure('se')\n",
    "se_data_sd=se_data\n",
    "se_data_sd=se_data_sd-se_data_sd.min()\n",
    "se_data_sd=(se_data_sd/se_data_sd.max()*255).astype('uint8')\n",
    "\n",
    "# ROTATE EDX INSTEAD:\n",
    "# se_data_sd = transform.rotate(se_data_sd,-np.rad2deg(rot),resize=True)\n",
    "\n",
    "plt.imshow(se_data_sd)\n",
    "\n",
    "#plt.figure()\n",
    "#plt.imshow(scp.ndimage.affine_transform(sd_sigcrop.mean(axis=2).mean(axis=2)))\n",
    "#sd_sigcrop.plot()\n",
    "print(angle1,angle2)"
   ]
  },
  {
   "cell_type": "code",
   "execution_count": 33,
   "metadata": {
    "collapsed": false
   },
   "outputs": [
    {
     "name": "stdout",
     "output_type": "stream",
     "text": [
      "(119, 186)\n"
     ]
    }
   ],
   "source": [
    "import cv2\n",
    "plt.close('all')\n",
    "sd_data_new = sd_data_rescale_rot\n",
    "_im2=(sd_data_new/sd_data_new.max()*255).astype('uint8')\n",
    "# _im2[100:,:]=0\n",
    "im1=se_data_sd-se_data_sd.min()\n",
    "im1=(im1/im1.max()*255).astype('uint8')\n",
    "im1[im1<50]=0\n",
    "im1=im1[11:,:]\n",
    "\n",
    "# im1 = edx.data.mean(axis=2)\n",
    "# im1=(im1/im1.max()*255).astype('uint8')\n",
    "# _im2 = (overv.data/overv.data.max()*255).astype('uint8')\n",
    "\n",
    "plt.figure(),plt.imshow(im1)\n",
    "plt.figure(),plt.imshow(_im2)\n",
    "\n",
    "w, h = im1.shape[::-1]\n",
    "print(im1.shape)\n",
    "methods = np.array(['cv2.TM_CCOEFF', 'cv2.TM_CCOEFF_NORMED', 'cv2.TM_CCORR','cv2.TM_CCORR_NORMED', 'cv2.TM_SQDIFF', 'cv2.TM_SQDIFF_NORMED'])\n",
    "for m in methods:\n",
    "    if m in ['cv2.TM_CCOEFF','cv2.TM_CCORR']:\n",
    "        continue\n",
    "    im2=_im2.copy()\n",
    "    plt.figure(m)\n",
    "    method=eval(m)\n",
    "    res = cv2.matchTemplate(im2, im1, method)\n",
    "    min_val, max_val, min_loc, max_loc = cv2.minMaxLoc(res)\n",
    "\n",
    "    if method in [cv2.TM_SQDIFF, cv2.TM_SQDIFF_NORMED]:\n",
    "        top_left = min_loc\n",
    "    else:\n",
    "        top_left = max_loc\n",
    "    bottom_right = (top_left[0] + w, top_left[1] + h)\n",
    "\n",
    "    cv2.rectangle(im2,top_left, bottom_right, 255, 1)\n",
    "\n",
    "    plt.subplot(121),plt.imshow(res,cmap = 'gray')\n",
    "    plt.title('Matching Result'), plt.xticks([]), plt.yticks([])\n",
    "    plt.subplot(122),plt.imshow(im2,cmap = 'gray')\n",
    "    plt.title('Detected Point'), plt.xticks([]), plt.yticks([])\n",
    "    plt.suptitle(m)\n",
    "    plt.hold('off')\n",
    "    plt.show()"
   ]
  },
  {
   "cell_type": "markdown",
   "metadata": {},
   "source": [
    "## Find scale"
   ]
  },
  {
   "cell_type": "code",
   "execution_count": 13,
   "metadata": {
    "collapsed": false
   },
   "outputs": [
    {
     "data": {
      "text/plain": [
       "(<matplotlib.figure.Figure at 0x7f96a76332e8>,\n",
       " <matplotlib.image.AxesImage at 0x7f96a3b5a8d0>)"
      ]
     },
     "execution_count": 13,
     "metadata": {},
     "output_type": "execute_result"
    }
   ],
   "source": [
    "sd_shape=sd_data.shape\n",
    "se_shape=se_data.shape\n",
    "sd_zoom=60\n",
    "se_zoom=600\n",
    "plt.figure(),plt.imshow(sd_data)\n",
    "plt.figure(),plt.imshow(se_data)"
   ]
  },
  {
   "cell_type": "code",
   "execution_count": 6,
   "metadata": {
    "collapsed": false
   },
   "outputs": [
    {
     "ename": "NameError",
     "evalue": "name 'top_left' is not defined",
     "output_type": "error",
     "traceback": [
      "\u001b[0;31m---------------------------------------------------------------------------\u001b[0m",
      "\u001b[0;31mNameError\u001b[0m                                 Traceback (most recent call last)",
      "\u001b[0;32m<ipython-input-6-6fff14fd7fb8>\u001b[0m in \u001b[0;36m<module>\u001b[0;34m()\u001b[0m\n\u001b[1;32m      1\u001b[0m \u001b[0mplt\u001b[0m\u001b[0;34m.\u001b[0m\u001b[0mclose\u001b[0m\u001b[0;34m(\u001b[0m\u001b[0;34m'all'\u001b[0m\u001b[0;34m)\u001b[0m\u001b[0;34m\u001b[0m\u001b[0m\n\u001b[0;32m----> 2\u001b[0;31m \u001b[0mprint\u001b[0m\u001b[0;34m(\u001b[0m\u001b[0mtop_left\u001b[0m\u001b[0;34m,\u001b[0m \u001b[0mbottom_right\u001b[0m\u001b[0;34m)\u001b[0m\u001b[0;34m\u001b[0m\u001b[0m\n\u001b[0m\u001b[1;32m      3\u001b[0m \u001b[0mh\u001b[0m\u001b[0;34m,\u001b[0m\u001b[0mw\u001b[0m\u001b[0;34m=\u001b[0m\u001b[0msd_data\u001b[0m\u001b[0;34m.\u001b[0m\u001b[0mshape\u001b[0m\u001b[0;34m\u001b[0m\u001b[0m\n\u001b[1;32m      4\u001b[0m \u001b[0msd_data_crop\u001b[0m\u001b[0;34m=\u001b[0m\u001b[0msd_data_new\u001b[0m\u001b[0;34m[\u001b[0m\u001b[0mtop_left\u001b[0m\u001b[0;34m[\u001b[0m\u001b[0;36m1\u001b[0m\u001b[0;34m]\u001b[0m\u001b[0;34m:\u001b[0m\u001b[0mbottom_right\u001b[0m\u001b[0;34m[\u001b[0m\u001b[0;36m1\u001b[0m\u001b[0;34m]\u001b[0m\u001b[0;34m,\u001b[0m\u001b[0mtop_left\u001b[0m\u001b[0;34m[\u001b[0m\u001b[0;36m0\u001b[0m\u001b[0;34m]\u001b[0m\u001b[0;34m:\u001b[0m\u001b[0mbottom_right\u001b[0m\u001b[0;34m[\u001b[0m\u001b[0;36m0\u001b[0m\u001b[0;34m]\u001b[0m\u001b[0;34m]\u001b[0m\u001b[0;34m\u001b[0m\u001b[0m\n\u001b[1;32m      5\u001b[0m \u001b[0mplt\u001b[0m\u001b[0;34m.\u001b[0m\u001b[0mfigure\u001b[0m\u001b[0;34m(\u001b[0m\u001b[0;34m)\u001b[0m\u001b[0;34m\u001b[0m\u001b[0m\n",
      "\u001b[0;31mNameError\u001b[0m: name 'top_left' is not defined"
     ]
    }
   ],
   "source": [
    "plt.close('all')\n",
    "print(top_left, bottom_right)\n",
    "h,w=sd_data.shape\n",
    "sd_data_crop=sd_data_new[top_left[1]:bottom_right[1],top_left[0]:bottom_right[0]]\n",
    "plt.figure()\n",
    "plt.imshow(sd_data_crop)\n",
    "plt.figure()\n",
    "plt.imshow(se_data_sd)"
   ]
  },
  {
   "cell_type": "code",
   "execution_count": 12,
   "metadata": {
    "collapsed": false
   },
   "outputs": [
    {
     "name": "stdout",
     "output_type": "stream",
     "text": [
      "Angle: -102.926\n",
      "x: (7, 137)\n",
      "y: (45, 231)\n"
     ]
    }
   ],
   "source": [
    "# ANGLE:\n",
    "angle = np.rad2deg(rot)\n",
    "print('Angle:',angle)\n",
    "print('x:',(top_left[1],bottom_right[1]))\n",
    "print('y:',(top_left[0],bottom_right[0]))"
   ]
  },
  {
   "cell_type": "code",
   "execution_count": null,
   "metadata": {
    "collapsed": false
   },
   "outputs": [],
   "source": [
    "### scale_sd_haadf = 60/250\n",
    "# scale_sd_edx=60/600\n",
    "# res_sd_edx=np.sqrt((200*200+260*260)/(2*2048*2048))\n",
    "# edx=hs.load(fname_nwcorner)\n",
    "# edx.map(scp.ndimage.interpolation.rotate, angle=5, reshape=True)\n",
    "# plt.clf()\n",
    "# plt.cla()\n",
    "# plt.close('all')\n",
    "# edx.plot()\n",
    "sd=sd.T\n",
    "sd.map(scp.ndimage.interpolation.rotate, angle=+102.926, axes=(0,1), reshape=True)\n",
    "sd.crop_image(top=45,bottom=231,left=7,right=137)\n",
    "sd=sd.T\n",
    "sd.plot()"
   ]
  },
  {
   "cell_type": "code",
   "execution_count": null,
   "metadata": {
    "collapsed": true
   },
   "outputs": [],
   "source": [
    "sd.save(\"/home/johannes/Desktop/Link to Data/AstartDataJulie/160512_SC239_X_overview_60k.hdf5\")"
   ]
  },
  {
   "cell_type": "code",
   "execution_count": 7,
   "metadata": {
    "collapsed": false
   },
   "outputs": [
    {
     "data": {
      "text/plain": [
       "<matplotlib.image.AxesImage at 0x7fa41ff41198>"
      ]
     },
     "execution_count": 7,
     "metadata": {},
     "output_type": "execute_result"
    }
   ],
   "source": [
    "plt.imshow(sd.data.mean(axis=(2,3)))"
   ]
  },
  {
   "cell_type": "code",
   "execution_count": 6,
   "metadata": {
    "collapsed": false
   },
   "outputs": [
    {
     "name": "stderr",
     "output_type": "stream",
     "text": [
      "WARNING:hyperspy.signal:<EDSTEMSpectrum, title: NWcontact_EDS Spectrum Image, dimensions: (186, 130|2048)> data is replaced by its optimized copy\n"
     ]
    },
    {
     "data": {
      "text/plain": [
       "<EDSTEMSpectrum, title: NWcontact_EDS Spectrum Image, dimensions: (186, 130|2048)>"
      ]
     },
     "execution_count": 6,
     "metadata": {},
     "output_type": "execute_result"
    }
   ],
   "source": [
    "fname_nwcontact = \"/home/johannes/Desktop/Link to Data/160309JulieContact/NWcontact_EDS Spectrum Image.dm3\"\n",
    "edx=hs.load(fname_nwcontact)\n",
    "edx"
   ]
  },
  {
   "cell_type": "markdown",
   "metadata": {},
   "source": [
    "## Find scalefactor, rotate, ImReg"
   ]
  },
  {
   "cell_type": "code",
   "execution_count": 10,
   "metadata": {
    "collapsed": false
   },
   "outputs": [
    {
     "name": "stderr",
     "output_type": "stream",
     "text": [
      "WARNING:hyperspy.signal:<EDSTEMSpectrum, title: NWcontact_EDS Spectrum Image, dimensions: (186, 130|2048)> data is replaced by its optimized copy\n"
     ]
    }
   ],
   "source": [
    "fname_diff=\"/home/johannes/Desktop/Link to Data/AstartDataJulie/160512_SC239_X_overview_60k.blo\"\n",
    "\n",
    "# sd = hs.load(fname_diff)\n",
    "edx=hs.load(fname_nwcontact)\n",
    "\n",
    "# sd.plot()"
   ]
  },
  {
   "cell_type": "code",
   "execution_count": 11,
   "metadata": {
    "collapsed": false
   },
   "outputs": [
    {
     "data": {
      "text/html": [
       "<style>\n",
       "table, th, td {\n",
       "\tborder: 1px solid black;\n",
       "\tborder-collapse: collapse;\n",
       "}\n",
       "th, td {\n",
       "\tpadding: 5px;\n",
       "}\n",
       "</style>\n",
       "<p><b>< Axes manager, axes: (186, 130|2048) ></b></p>\n",
       "<table style='width:100%'>\n",
       "\n",
       "<tr> \n",
       "<th>Navigation axis name</th> \n",
       "<th>size</th> \n",
       "<th>index</th> \n",
       "<th>offset</th> \n",
       "<th>scale</th> \n",
       "<th>units</th> </tr>\n",
       "<tr> \n",
       "<td>x</td> \n",
       "<td>186</td> \n",
       "<td>0</td> \n",
       "<td>-0.0</td> \n",
       "<td>0.0013385306810960174</td> \n",
       "<td>µm</td> </tr>\n",
       "<tr> \n",
       "<td>y</td> \n",
       "<td>130</td> \n",
       "<td>0</td> \n",
       "<td>-0.0</td> \n",
       "<td>0.0013385306810960174</td> \n",
       "<td>µm</td> </tr></table>\n",
       "<table style='width:100%'>\n",
       "\n",
       "<tr> \n",
       "<th>Signal axis name</th> \n",
       "<th>size</th> \n",
       "<th>offset</th> \n",
       "<th>scale</th> \n",
       "<th>units</th> </tr>\n",
       "<tr> \n",
       "<td>z</td> \n",
       "<td>2048</td> \n",
       "<td>-0.0</td> \n",
       "<td>0.009999999776482582</td> \n",
       "<td>keV</td> </tr></table>\n"
      ],
      "text/plain": [
       "<Axes manager, axes: (186, 130|2048)>\n",
       "            Name |   size |  index |  offset |   scale |  units \n",
       "================ | ====== | ====== | ======= | ======= | ====== \n",
       "               x |    186 |      0 |      -0 |  0.0013 |     µm \n",
       "               y |    130 |      0 |      -0 |  0.0013 |     µm \n",
       "---------------- | ------ | ------ | ------- | ------- | ------ \n",
       "               z |   2048 |        |      -0 |    0.01 |    keV "
      ]
     },
     "execution_count": 11,
     "metadata": {},
     "output_type": "execute_result"
    }
   ],
   "source": [
    "edx.axes_manager"
   ]
  },
  {
   "cell_type": "code",
   "execution_count": 43,
   "metadata": {
    "collapsed": false
   },
   "outputs": [
    {
     "name": "stdout",
     "output_type": "stream",
     "text": [
      "1.3385306810960174\n",
      "1.92\n"
     ]
    },
    {
     "ename": "NameError",
     "evalue": "name 'se_data_sd' is not defined",
     "output_type": "error",
     "traceback": [
      "\u001b[0;31m---------------------------------------------------------------------------\u001b[0m",
      "\u001b[0;31mNameError\u001b[0m                                 Traceback (most recent call last)",
      "\u001b[0;32m<ipython-input-43-4600bd25f62e>\u001b[0m in \u001b[0;36m<module>\u001b[0;34m()\u001b[0m\n\u001b[1;32m      7\u001b[0m \u001b[0;31m# plt.imshow(sd_data)\u001b[0m\u001b[0;34m\u001b[0m\u001b[0;34m\u001b[0m\u001b[0m\n\u001b[1;32m      8\u001b[0m \u001b[0;31m# sd_data_rescale=transform.rescale(sd_data, sd_scale/edx_scale)\u001b[0m\u001b[0;34m\u001b[0m\u001b[0;34m\u001b[0m\u001b[0m\n\u001b[0;32m----> 9\u001b[0;31m \u001b[0mse_data\u001b[0m \u001b[0;34m=\u001b[0m \u001b[0mtransform\u001b[0m\u001b[0;34m.\u001b[0m\u001b[0mrescale\u001b[0m\u001b[0;34m(\u001b[0m\u001b[0mse_data_sd\u001b[0m\u001b[0;34m,\u001b[0m \u001b[0medx_scale\u001b[0m\u001b[0;34m/\u001b[0m\u001b[0msd_scale\u001b[0m\u001b[0;34m)\u001b[0m\u001b[0;34m\u001b[0m\u001b[0m\n\u001b[0m\u001b[1;32m     10\u001b[0m \u001b[0msd_data_rescale\u001b[0m \u001b[0;34m=\u001b[0m \u001b[0msd_data\u001b[0m\u001b[0;34m\u001b[0m\u001b[0m\n\u001b[1;32m     11\u001b[0m \u001b[0msd_data_rescale_rot\u001b[0m\u001b[0;34m=\u001b[0m\u001b[0mscp\u001b[0m\u001b[0;34m.\u001b[0m\u001b[0mndimage\u001b[0m\u001b[0;34m.\u001b[0m\u001b[0mrotate\u001b[0m\u001b[0;34m(\u001b[0m\u001b[0msd_data_rescale\u001b[0m\u001b[0;34m,\u001b[0m \u001b[0;34m-\u001b[0m\u001b[0;36m102.926\u001b[0m\u001b[0;34m)\u001b[0m\u001b[0;34m\u001b[0m\u001b[0m\n",
      "\u001b[0;31mNameError\u001b[0m: name 'se_data_sd' is not defined"
     ]
    }
   ],
   "source": [
    "# edx_scale = edx.axes_manager.as_dictionary()['axis-1']['scale']*1000\n",
    "edx_scale = 0.0013385306810960174*1000\n",
    "# sd_scale = sd.axes_manager.as_dictionary()['axis-1']['scale']\n",
    "sd_scale = 1.92\n",
    "print(edx_scale)\n",
    "print(sd_scale)\n",
    "# plt.imshow(sd_data)\n",
    "# sd_data_rescale=transform.rescale(sd_data, sd_scale/edx_scale)\n",
    "se_data = transform.rescale(se_data_sd, edx_scale/sd_scale)\n",
    "sd_data_rescale = sd_data\n",
    "sd_data_rescale_rot=scp.ndimage.rotate(sd_data_rescale, -102.926)"
   ]
  },
  {
   "cell_type": "code",
   "execution_count": 19,
   "metadata": {
    "collapsed": false
   },
   "outputs": [
    {
     "data": {
      "text/plain": [
       "<matplotlib.image.AxesImage at 0x7ff45b75d208>"
      ]
     },
     "execution_count": 19,
     "metadata": {},
     "output_type": "execute_result"
    }
   ],
   "source": [
    "plt.close('all')\n",
    "plt.imshow(sd_data_rescale_rot)\n",
    "plt.figure()\n",
    "plt.imshow(sd_data)\n",
    "plt.figure()\n",
    "plt.imshow(se_data)"
   ]
  },
  {
   "cell_type": "markdown",
   "metadata": {},
   "source": [
    "### ImReg"
   ]
  },
  {
   "cell_type": "code",
   "execution_count": 42,
   "metadata": {
    "collapsed": false
   },
   "outputs": [
    {
     "ename": "NameError",
     "evalue": "name 'sd_data_rescale_rot' is not defined",
     "output_type": "error",
     "traceback": [
      "\u001b[0;31m---------------------------------------------------------------------------\u001b[0m",
      "\u001b[0;31mNameError\u001b[0m                                 Traceback (most recent call last)",
      "\u001b[0;32m<ipython-input-42-a8c0237ee11d>\u001b[0m in \u001b[0;36m<module>\u001b[0;34m()\u001b[0m\n\u001b[1;32m      1\u001b[0m \u001b[0;31m# import cv2\u001b[0m\u001b[0;34m\u001b[0m\u001b[0;34m\u001b[0m\u001b[0m\n\u001b[1;32m      2\u001b[0m \u001b[0mplt\u001b[0m\u001b[0;34m.\u001b[0m\u001b[0mclose\u001b[0m\u001b[0;34m(\u001b[0m\u001b[0;34m'all'\u001b[0m\u001b[0;34m)\u001b[0m\u001b[0;34m\u001b[0m\u001b[0m\n\u001b[0;32m----> 3\u001b[0;31m \u001b[0msd_data_new\u001b[0m \u001b[0;34m=\u001b[0m \u001b[0msd_data_rescale_rot\u001b[0m\u001b[0;34m\u001b[0m\u001b[0m\n\u001b[0m\u001b[1;32m      4\u001b[0m \u001b[0mse_data_sd\u001b[0m \u001b[0;34m=\u001b[0m \u001b[0mse_data\u001b[0m\u001b[0;34m\u001b[0m\u001b[0m\n\u001b[1;32m      5\u001b[0m \u001b[0m_im2\u001b[0m\u001b[0;34m=\u001b[0m\u001b[0;34m(\u001b[0m\u001b[0msd_data_new\u001b[0m\u001b[0;34m/\u001b[0m\u001b[0msd_data_new\u001b[0m\u001b[0;34m.\u001b[0m\u001b[0mmax\u001b[0m\u001b[0;34m(\u001b[0m\u001b[0;34m)\u001b[0m\u001b[0;34m*\u001b[0m\u001b[0;36m255\u001b[0m\u001b[0;34m)\u001b[0m\u001b[0;34m.\u001b[0m\u001b[0mastype\u001b[0m\u001b[0;34m(\u001b[0m\u001b[0;34m'uint8'\u001b[0m\u001b[0;34m)\u001b[0m\u001b[0;34m\u001b[0m\u001b[0m\n",
      "\u001b[0;31mNameError\u001b[0m: name 'sd_data_rescale_rot' is not defined"
     ]
    }
   ],
   "source": [
    "# import cv2\n",
    "plt.close('all')\n",
    "sd_data_new = sd_data_rescale_rot\n",
    "se_data_sd = se_data\n",
    "_im2=(sd_data_new/sd_data_new.max()*255).astype('uint8')\n",
    "# _im2[100:,:]=0\n",
    "im1=se_data_sd-se_data_sd.min()\n",
    "im1=(im1/im1.max()*255).astype('uint8')\n",
    "# im1[im1<50]=0\n",
    "# im1=im1[11:,:]\n",
    "\n",
    "# im1 = edx.data.mean(axis=2)\n",
    "# im1=(im1/im1.max()*255).astype('uint8')\n",
    "# _im2 = (overv.data/overv.data.max()*255).astype('uint8')\n",
    "\n",
    "plt.figure(),plt.imshow(im1)\n",
    "plt.figure(),plt.imshow(_im2)\n",
    "\n",
    "w, h = im1.shape[::-1]\n",
    "print(im1.shape)\n",
    "methods = np.array(['cv2.TM_CCOEFF', 'cv2.TM_CCOEFF_NORMED', 'cv2.TM_CCORR','cv2.TM_CCORR_NORMED', 'cv2.TM_SQDIFF', 'cv2.TM_SQDIFF_NORMED'])\n",
    "m = 'cv2.TM_SQDIFF_NORMED'\n",
    "im2=_im2.copy()\n",
    "plt.figure(m)\n",
    "method=eval(m)\n",
    "res = cv2.matchTemplate(im2, im1, method)\n",
    "min_val, max_val, min_loc, max_loc = cv2.minMaxLoc(res)\n",
    "\n",
    "if method in [cv2.TM_SQDIFF, cv2.TM_SQDIFF_NORMED]:\n",
    "    top_left = min_loc\n",
    "else:\n",
    "    top_left = max_loc\n",
    "bottom_right = (top_left[0] + w, top_left[1] + h)\n",
    "\n",
    "cv2.rectangle(im2,top_left, bottom_right, 255, 1)\n",
    "\n",
    "plt.subplot(121),plt.imshow(res,cmap = 'gray')\n",
    "plt.title('Matching Result'), plt.xticks([]), plt.yticks([])\n",
    "plt.subplot(122),plt.imshow(im2,cmap = 'gray')\n",
    "plt.title('Detected Point'), plt.xticks([]), plt.yticks([])\n",
    "plt.suptitle(m)\n",
    "plt.hold('off')\n",
    "plt.show()"
   ]
  },
  {
   "cell_type": "code",
   "execution_count": 21,
   "metadata": {
    "collapsed": false
   },
   "outputs": [
    {
     "name": "stdout",
     "output_type": "stream",
     "text": [
      "76 167 67 197\n"
     ]
    }
   ],
   "source": [
    "print(top_left[1], bottom_right[1],top_left[0], bottom_right[0])"
   ]
  },
  {
   "cell_type": "markdown",
   "metadata": {},
   "source": [
    "### Cut piece out"
   ]
  },
  {
   "cell_type": "code",
   "execution_count": 22,
   "metadata": {
    "collapsed": false
   },
   "outputs": [
    {
     "name": "stdout",
     "output_type": "stream",
     "text": [
      "(67, 76) (197, 167)\n"
     ]
    },
    {
     "data": {
      "text/plain": [
       "<matplotlib.image.AxesImage at 0x7ff45b73f668>"
      ]
     },
     "execution_count": 22,
     "metadata": {},
     "output_type": "execute_result"
    }
   ],
   "source": [
    "plt.close('all')\n",
    "print(top_left, bottom_right)\n",
    "sd_data_crop=sd_data_new[top_left[1]:bottom_right[1],top_left[0]:bottom_right[0]]\n",
    "\n",
    "plt.figure()\n",
    "plt.imshow(sd_data_crop)\n",
    "plt.figure()\n",
    "plt.imshow(se_data_sd)"
   ]
  },
  {
   "cell_type": "markdown",
   "metadata": {},
   "source": [
    "## Rotate SPED"
   ]
  },
  {
   "cell_type": "code",
   "execution_count": 2,
   "metadata": {
    "collapsed": false
   },
   "outputs": [],
   "source": [
    "# sd=hs.load(fname_diff)\n",
    "sd = hs.load('/home/johannes/Desktop/Link to Documents/Materialfysikk/PROJECT/Project/crops/num3/full_sd_sigcrop.hdf5')\n",
    "sd.plot()"
   ]
  },
  {
   "cell_type": "code",
   "execution_count": 28,
   "metadata": {
    "collapsed": false,
    "scrolled": true
   },
   "outputs": [],
   "source": [
    "s=sd.rotate(angle=-102.93, reshape = True,rotate_dimension='navigation')\n",
    "# s=s.inav[110:240,97:283]\n",
    "s.plot()"
   ]
  },
  {
   "cell_type": "code",
   "execution_count": 5,
   "metadata": {
    "collapsed": false
   },
   "outputs": [],
   "source": [
    "s_cut=s.inav[67:197,76:167]\n",
    "s_cut.plot()"
   ]
  },
  {
   "cell_type": "code",
   "execution_count": 23,
   "metadata": {
    "collapsed": false
   },
   "outputs": [],
   "source": [
    "# edx=hs.load(fname_nwcontact)\n",
    "edx.plot()"
   ]
  },
  {
   "cell_type": "code",
   "execution_count": 34,
   "metadata": {
    "collapsed": false
   },
   "outputs": [],
   "source": [
    "edx_scale = 0.0013385306810960174*1000\n",
    "sd_scale = 1.92"
   ]
  },
  {
   "cell_type": "code",
   "execution_count": 41,
   "metadata": {
    "collapsed": false
   },
   "outputs": [],
   "source": [
    "for i in range(2):\n",
    "    edx.axes_manager.navigation_axes[i].index = int(s_cut.axes_manager.navigation_axes[i].index*sd_scale/edx_scale)"
   ]
  }
 ],
 "metadata": {
  "kernelspec": {
   "display_name": "Python 3",
   "language": "python",
   "name": "python3"
  },
  "language_info": {
   "codemirror_mode": {
    "name": "ipython",
    "version": 3
   },
   "file_extension": ".py",
   "mimetype": "text/x-python",
   "name": "python",
   "nbconvert_exporter": "python",
   "pygments_lexer": "ipython3",
   "version": "3.5.2"
  }
 },
 "nbformat": 4,
 "nbformat_minor": 1
}
