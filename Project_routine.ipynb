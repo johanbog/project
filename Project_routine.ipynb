{
 "cells": [
  {
   "cell_type": "code",
   "execution_count": 1,
   "metadata": {
    "collapsed": false
   },
   "outputs": [],
   "source": [
    "%load_ext autoreload\n",
    "%autoreload 2\n",
    "import hyperspy.api as hs\n",
    "%matplotlib qt4\n",
    "import matplotlib.pyplot as plt\n",
    "import numpy as np\n",
    "import cv2\n",
    "from scipy.ndimage.interpolation import rotate\n",
    "from skimage.transform import rescale\n",
    "from hyperspy import project_routine\n",
    "\n",
    "fname_diff=\"../../Data/AstartDataJulie/160512_SC239_X_overview_60k.blo\"\n",
    "fname_nwcontact = \"../../Data/160309JulieContact/NWcontact_EDS Spectrum Image.dm3\"\n",
    "\n",
    "sd_data=np.load('../../PROJECT/Project/Oct9/sd_picture.npy')\n",
    "se_data=np.load('../../PROJECT/Project/Oct9/se_picture.npy')\n",
    "# sd_data_new=np.load('../..//PROJECT/Project/Oct9/sd_picture_uint8_rotated.npy')\n",
    "# se_data_sd=np.load('../..//PROJECT/Project/Oct9/se_picture_uint8.npy')"
   ]
  },
  {
   "cell_type": "code",
   "execution_count": 5,
   "metadata": {
    "collapsed": false
   },
   "outputs": [
    {
     "data": {
      "text/plain": [
       "<matplotlib.image.AxesImage at 0x7fc71543f2e8>"
      ]
     },
     "execution_count": 5,
     "metadata": {},
     "output_type": "execute_result"
    }
   ],
   "source": [
    "plt.close('all')\n",
    "plt.figure()\n",
    "plt.imshow(sd_data)\n",
    "plt.figure()\n",
    "plt.imshow(se_data)\n"
   ]
  },
  {
   "cell_type": "markdown",
   "metadata": {},
   "source": [
    "# Load (cropped) data"
   ]
  },
  {
   "cell_type": "code",
   "execution_count": 4,
   "metadata": {
    "collapsed": false
   },
   "outputs": [],
   "source": [
    "# sd = hs.load('../..//PROJECT/Project/crops/num3/full_sd_sigcrop.hdf5')\n",
    "# edx= hs.load('../..//PROJECT/Project/crops/num3/full_se_sigcrop.hdf5')\n",
    "# sd = hs.load('/home/johannes/Downloads/160512_SC239_X_overview_60k.blo')\n",
    "# sd2 = hs.load('/home/johannes/Downloads/160512_SC239_X_overview_60k.hdf5')#.isig[10:20,10:20]\n",
    "# plt.figure('sd2')\n",
    "# plt.imshow(sd2.data.mean(axis=(2,3)))\n",
    "# se = hs.load(\"../../Data/160309JulieContact/NWcontact_EDS Spectrum Image.hdf5\").isig[10:20]\n",
    "\n",
    "sd=hs.load(\"../../Data/sd_sigcrop.hdf5\")\n",
    "# se=hs.load(\"../../Data/se_sigcrop.hdf5\")\n",
    "    # se = hs.load(\"../../Data/160309JulieContact/NWcontact_EDS Spectrum Image.dm3\")\n",
    "# plt.figure('sd')\n",
    "# plt.imshow(sd.data.mean(axis=(2,3)))\n",
    "# plt.figure('se')\n",
    "# plt.imshow(se.data.mean(axis=(2)))\n",
    "\n",
    "\n",
    "# se2 = hs.load(\"../../Data/160309JulieContact/NWcontact_EDS Spectrum Image.hdf5\")\n",
    "# plt.figure('se2')\n",
    "# plt.imshow(se2.data.mean(axis=2))\n",
    "# se.save(\"../../Data/160309JulieContact/NWcontact_EDS Spectrum Image.hdf5\")\n",
    "# sd.metadata\n",
    "# edx.metadata"
   ]
  },
  {
   "cell_type": "markdown",
   "metadata": {},
   "source": [
    "### Make image of appropriate edx data"
   ]
  },
  {
   "cell_type": "code",
   "execution_count": 13,
   "metadata": {
    "collapsed": false
   },
   "outputs": [],
   "source": [
    "# se=hs.load('../..//Data/160506_SC239_X/C_EDS Spectrum Image.dm3')\n",
    "# se.T.plot()\n",
    "# se_sigcrop=se.isig[9.13:9.43]\n",
    "# plt.figure()\n",
    "# plt.imshow(se_sigcrop.data.mean(axis=2))\n",
    "np.save('../..//Data/160506_SC239_X/C_EDS Spectrum Image.npy', se_sigcrop.data.mean(axis=2))"
   ]
  },
  {
   "cell_type": "code",
   "execution_count": null,
   "metadata": {
    "collapsed": false
   },
   "outputs": [],
   "source": [
    "sd.save(\"../../Data/sd_sigcrop.hdf5\")\n",
    "se.save(\"../../Data/se_sigcrop.hdf5\")"
   ]
  },
  {
   "cell_type": "code",
   "execution_count": 145,
   "metadata": {
    "collapsed": false
   },
   "outputs": [],
   "source": [
    "pts1 = np.float32([[103,133],[89,72]]) #sd\n",
    "#     pts2 = np.float32([[50,53],[131,53]]) #edx\n",
    "pts2 = np.float32([[65,78],[118,68]]) #edx real one\n",
    "angle1=np.arctan2(pts1[0,1]-pts1[1,1],pts1[0,0]-pts1[1,0])\n",
    "angle2=np.arctan2(pts2[0,1]-pts2[1,1],pts2[0,0]-pts2[1,0])\n",
    "rot = angle1-angle2\n",
    "\n",
    "def scale_and_rotate(sd,sd_data,edx,edx_data, rot):\n",
    "\n",
    "    edx_scale = edx.axes_manager.as_dictionary()['axis-1']['scale']*1000\n",
    "    sd_scale = sd.axes_manager.as_dictionary()['axis-1']['scale']\n",
    "    scale = edx_scale/sd_scale\n",
    "    print(scale)\n",
    "    se_data2 = rescale(se_data, scale)\n",
    "    sd_data2 = rotate(sd_data, np.rad2deg(rot))\n",
    "    sd_data2 -= np.min(sd_data2)\n",
    "    sd_data2 = (sd_data2/np.max(sd_data2)*255).astype('uint8')\n",
    "    se_data2 -= np.min(se_data2)\n",
    "    se_data2 = (se_data2/np.max(se_data2)*255).astype('uint8')\n",
    "    \n",
    "    return (sd_data2, se_data2, scale)\n",
    "\n",
    "\n",
    "def imreg(sd_data2, se_data2):\n",
    "    im1 = se_data2\n",
    "    im2 = sd_data2\n",
    "    print(im1.shape, im2.shape)\n",
    "    w, h = im1.shape[::-1]\n",
    "\n",
    "    methods = np.array(['cv2.TM_CCOEFF', 'cv2.TM_CCOEFF_NORMED', 'cv2.TM_CCORR','cv2.TM_CCORR_NORMED', 'cv2.TM_SQDIFF', 'cv2.TM_SQDIFF_NORMED'])\n",
    "    m = 'cv2.TM_SQDIFF_NORMED'\n",
    "    # not CCORR, CCOEFF, \n",
    "    # for m in methods:\n",
    "    method=eval(m)\n",
    "    res = cv2.matchTemplate(im2, im1, method)\n",
    "    min_val, max_val, min_loc, max_loc = cv2.minMaxLoc(res)\n",
    "\n",
    "    if method in [cv2.TM_SQDIFF, cv2.TM_SQDIFF_NORMED]:\n",
    "        top_left = min_loc\n",
    "    else:\n",
    "        top_left = max_loc\n",
    "    bottom_right = (top_left[0] + w, top_left[1] + h)\n",
    "\n",
    "    cv2.rectangle(im2,top_left, bottom_right, 255, 1)\n",
    "\n",
    "    plt.figure(m)\n",
    "#     plt.subplot(121),plt.imshow(res,cmap = 'gray')\n",
    "#     plt.title('Matching Result'), plt.xticks([]), plt.yticks([])\n",
    "#     plt.subplot(122),\n",
    "    plt.imshow(im2,cmap = 'gray',interpolation='none',extent=[0,im2.shape[1]])\n",
    "#     plt.title('Detected Point'), plt.xticks([]), plt.yticks([])\n",
    "#     plt.suptitle(m)\n",
    "#     plt.hold('off')\n",
    "#     print(top_left,bottom_right)\n",
    "    plt.show()\n",
    "    plt.figure('se')\n",
    "    plt.imshow(im1)\n",
    "    \n",
    "    return top_left, bottom_right,res\n",
    "\n",
    "# def crop_sd(sd_data2, top_left, bottom_right):\n",
    "#     sd_data_crop=sd_data2[top_left[1]:bottom_right[1],top_left[0]:bottom_right[0]]\n",
    "#     return sd_data_crop\n",
    "\n",
    "def crop_and_rotate_sd(sd, top_left, bottom_right, rot):\n",
    "#     pts1 = np.float32([[103,133],[89,72]])\n",
    "# #     pts2 = np.float32([[50,53],[131,53]])\n",
    "#     pts2 = np.float32([[65,78],[118,68]]) #edx real one\n",
    "#     angle1=np.arctan2(pts1[0,1]-pts1[1,1],pts1[0,0]-pts1[1,0])\n",
    "#     angle2=np.arctan2(pts2[0,1]-pts2[1,1],pts2[0,0]-pts2[1,0])\n",
    "#     rot = angle1-angle2\n",
    "    sd2 = sd.rotate(angle=np.rad2deg(rot), reshape=True, rotate_dimension='navigation')\n",
    "    \n",
    "#     sd2.crop('x',top_left[0], bottom_right[0])\n",
    "#     sd2.crop('y',top_left[1], bottom_right[1])\n",
    "    sd2=sd2.inav[top_left[0]:bottom_right[0],top_left[1]:bottom_right[1]]\n",
    "    \n",
    "    return sd2\n",
    "\n",
    "# def connect(sd2, edx, scale, tl):\n",
    "#     offset = tl\n",
    "#     sd2.plot(colorbar=False)\n",
    "#     edx.plot()\n",
    "#     sd2.connect(edx, scale, offset)\n",
    "    \n",
    "def rebin_se(se, scale):\n",
    "    return se.linear_bin([scale, scale, 1], crop='True')\n",
    "    \n",
    "    "
   ]
  },
  {
   "cell_type": "code",
   "execution_count": 147,
   "metadata": {
    "collapsed": false
   },
   "outputs": [
    {
     "name": "stderr",
     "output_type": "stream",
     "text": [
      "WARNING:hyperspy.signal:<EDSTEMSpectrum, title: C_EDS Spectrum Image, dimensions: (128, 128|2048)> data is replaced by its optimized copy\n"
     ]
    },
    {
     "name": "stdout",
     "output_type": "stream",
     "text": [
      "(128, 128)\n",
      "1.23744369679\n",
      "(158, 158) (268, 210)\n",
      "(10, 28) (168, 186)\n",
      "(158, 158, 10, 10) (158, 158, 2048)\n"
     ]
    }
   ],
   "source": [
    "plt.close('all')\n",
    "sd=hs.load(\"../../Data/sd_sigcrop.hdf5\")\n",
    "se=hs.load('../..//Data/160506_SC239_X/C_EDS Spectrum Image.dm3')\n",
    "se_data = np.load('../../Data/160506_SC239_X/C_EDS Spectrum Image.npy')\n",
    "print(se_data.shape)\n",
    "sd_data2, se_data2, sd_scale = scale_and_rotate(sd,sd_data,se,se_data, rot)\n",
    "tl,br,res = imreg(sd_data2, se_data2)\n",
    "sd2 = crop_and_rotate_sd(sd, tl, br, rot)\n",
    "se2 = rebin_se(se, 1/sd_scale)\n",
    "print(tl,br)\n",
    "# sd2.save('/home/johannes/Desktop/rotated_cropped_sd2.hdf5')\n",
    "# se2.save('/home/johannes/Desktop/scaled_se.hdf5')\n",
    "print(sd2.data.shape, se2.data.shape)\n",
    "# connect(sd2,se,sd_scale,tl)\n",
    "plt."
   ]
  },
  {
   "cell_type": "code",
   "execution_count": 126,
   "metadata": {
    "collapsed": false
   },
   "outputs": [
    {
     "data": {
      "text/html": [
       "<style>\n",
       "table, th, td {\n",
       "\tborder: 1px solid black;\n",
       "\tborder-collapse: collapse;\n",
       "}\n",
       "th, td {\n",
       "\tpadding: 5px;\n",
       "}\n",
       "</style>\n",
       "<p><b>< Axes manager, axes: (128, 128|2048) ></b></p>\n",
       "<table style='width:100%'>\n",
       "\n",
       "<tr> \n",
       "<th>Navigation axis name</th> \n",
       "<th>size</th> \n",
       "<th>index</th> \n",
       "<th>offset</th> \n",
       "<th>scale</th> \n",
       "<th>units</th> </tr>\n",
       "<tr> \n",
       "<td>x</td> \n",
       "<td>128</td> \n",
       "<td>0</td> \n",
       "<td>-0.0</td> \n",
       "<td>0.002375891897827387</td> \n",
       "<td>µm</td> </tr>\n",
       "<tr> \n",
       "<td>y</td> \n",
       "<td>128</td> \n",
       "<td>0</td> \n",
       "<td>-0.0</td> \n",
       "<td>0.002375891897827387</td> \n",
       "<td>µm</td> </tr></table>\n",
       "<table style='width:100%'>\n",
       "\n",
       "<tr> \n",
       "<th>Signal axis name</th> \n",
       "<th>size</th> \n",
       "<th>offset</th> \n",
       "<th>scale</th> \n",
       "<th>units</th> </tr>\n",
       "<tr> \n",
       "<td>z</td> \n",
       "<td>2048</td> \n",
       "<td>-0.0</td> \n",
       "<td>0.009999999776482582</td> \n",
       "<td>keV</td> </tr></table>\n"
      ],
      "text/plain": [
       "<Axes manager, axes: (128, 128|2048)>\n",
       "            Name |   size |  index |  offset |   scale |  units \n",
       "================ | ====== | ====== | ======= | ======= | ====== \n",
       "               x |    128 |      0 |      -0 |  0.0024 |     µm \n",
       "               y |    128 |      0 |      -0 |  0.0024 |     µm \n",
       "---------------- | ------ | ------ | ------- | ------- | ------ \n",
       "               z |   2048 |        |      -0 |    0.01 |    keV "
      ]
     },
     "execution_count": 126,
     "metadata": {},
     "output_type": "execute_result"
    }
   ],
   "source": []
  },
  {
   "cell_type": "markdown",
   "metadata": {},
   "source": [
    "#### Do this for 'other data'"
   ]
  },
  {
   "cell_type": "code",
   "execution_count": 111,
   "metadata": {
    "collapsed": false
   },
   "outputs": [
    {
     "name": "stdout",
     "output_type": "stream",
     "text": [
      "1.23744369679\n",
      "(158, 158) (268, 210)\n"
     ]
    },
    {
     "name": "stderr",
     "output_type": "stream",
     "text": [
      "WARNING:hyperspy.signal:<EDSTEMSpectrum, title: I_EDS Spectrum Image, dimensions: (32, 64|2048)> data is replaced by its optimized copy\n"
     ]
    },
    {
     "name": "stdout",
     "output_type": "stream",
     "text": [
      "(7, 4, 10, 10) (9, 4, 2048)\n"
     ]
    }
   ],
   "source": [
    "sd=hs.load(\"../../Data/sd_sigcrop.hdf5\")\n",
    "# se=hs.load('../..//Data/160506_SC239_X/C_EDS Spectrum Image.dm3')\n",
    "se_data = np.load('../../Data/160506_SC239_X/C_EDS Spectrum Image.npy')\n",
    "sd_data2, se_data2, sd_scale = scale_and_rotate(sd,sd_data,se,se_data, rot)\n",
    "tl,br,res = imreg(sd_data2, se_data2)\n",
    "\n",
    "sef=hs.load('../../Data/160506_SC239_X/I_EDS Spectrum Image.dm3')\n",
    "scalef=scalelist[8]\n",
    "scaleref=scalelist[2]\n",
    "# scalef/=scaleref\n",
    "scalenew=(sd_scale*scalef/scaleref)\n",
    "minus2 = np.asarray([tl[1],tl[0]])\n",
    "tlf=tuple(np.ceil(((np.asarray(tllist[8])-minus2))*scalenew).astype('int'))\n",
    "brf=tuple(np.ceil(((np.asarray(brlist[8])-minus2))*scalenew).astype('int'))\n",
    "\n",
    "sd2 = crop_and_rotate_sd(sd, tlf, brf, rot)\n",
    "# scalerebin=1/(scalef*sd_scale/scaleref)\n",
    "se2 = rebin_se(sef, scalerebin)\n",
    "# se2.save('I_se.hdf5')\n",
    "# sd2.save('I_sd.hdf5')\n",
    "print(sd2.data.shape,se2.data.shape)"
   ]
  },
  {
   "cell_type": "code",
   "execution_count": 91,
   "metadata": {
    "collapsed": false
   },
   "outputs": [
    {
     "name": "stdout",
     "output_type": "stream",
     "text": [
      "(3, 3, 10, 10) (7, 7, 2048)\n"
     ]
    }
   ],
   "source": [
    "print(sd2.data.shape,se2.data.shape)"
   ]
  },
  {
   "cell_type": "code",
   "execution_count": 169,
   "metadata": {
    "collapsed": false
   },
   "outputs": [
    {
     "name": "stdout",
     "output_type": "stream",
     "text": [
      "[1494 1493 1441 ..., 4898 4896 5882]\n",
      "[ 0.13320586  0.13331872  0.1340341   0.13416378  0.13471512  0.13477087\n",
      "  0.13515522  0.13533212  0.1359667   0.13619569]\n"
     ]
    },
    {
     "data": {
      "text/plain": [
       "<matplotlib.text.Text at 0x2bb80022d30>"
      ]
     },
     "execution_count": 169,
     "metadata": {},
     "output_type": "execute_result"
    }
   ],
   "source": [
    "print (np.argsort(np.array(res).reshape(-1)))\n",
    "locs=np.argsort(np.array(res).reshape(-1))\n",
    "print(np.array(res).reshape(-1)[locs[:10]])\n",
    "\n",
    "least100 = np.array(res).reshape(-1)[locs[:100]]\n",
    "least0 = np.array(res).reshape(-1)[locs[0]]\n",
    "\n",
    "                                  \n",
    "plt.figure()\n",
    "plt.scatter(np.arange(100),100*(1-(least100-least0)/least0))\n",
    "plt.ylabel('Percent')\n",
    "plt.xlabel('Pixel')"
   ]
  },
  {
   "cell_type": "code",
   "execution_count": 57,
   "metadata": {
    "collapsed": false
   },
   "outputs": [
    {
     "name": "stdout",
     "output_type": "stream",
     "text": [
      "1.0\n"
     ]
    }
   ],
   "source": [
    "print(np.array(res).reshape(-1)[locs[-1]])"
   ]
  },
  {
   "cell_type": "code",
   "execution_count": null,
   "metadata": {
    "collapsed": false,
    "scrolled": true
   },
   "outputs": [],
   "source": [
    "se=hs.load('../../Data/160506_SC239_X/C_EDS Spectrum Image.dm3')\n",
    "se_data = se.mean(axis=2).data\n",
    "sd_data2, se_data2, sd_scale = scale_and_rotate(sd, sd_data, se, se_data)\n",
    "tl, br = imreg(sd_data2, se_data2)"
   ]
  },
  {
   "cell_type": "code",
   "execution_count": 4,
   "metadata": {
    "collapsed": false
   },
   "outputs": [
    {
     "name": "stdout",
     "output_type": "stream",
     "text": [
      "(130, 186) (200, 260)\n"
     ]
    },
    {
     "ename": "error",
     "evalue": "/home/johannes/temptempt/opencv-3/modules/imgproc/src/templmatch.cpp:1088: error: (-215) (depth == CV_8U || depth == CV_32F) && type == _templ.type() && _img.dims() <= 2 in function matchTemplate\n",
     "output_type": "error",
     "traceback": [
      "\u001b[0;31m---------------------------------------------------------------------------\u001b[0m",
      "\u001b[0;31merror\u001b[0m                                     Traceback (most recent call last)",
      "\u001b[0;32m<ipython-input-4-71984a74fc39>\u001b[0m in \u001b[0;36m<module>\u001b[0;34m()\u001b[0m\n\u001b[0;32m----> 1\u001b[0;31m \u001b[0mtl\u001b[0m\u001b[0;34m,\u001b[0m\u001b[0mbr\u001b[0m \u001b[0;34m=\u001b[0m \u001b[0mimreg\u001b[0m\u001b[0;34m(\u001b[0m\u001b[0msd_data\u001b[0m\u001b[0;34m,\u001b[0m \u001b[0mse_data\u001b[0m\u001b[0;34m)\u001b[0m\u001b[0;34m\u001b[0m\u001b[0m\n\u001b[0m",
      "\u001b[0;32m<ipython-input-3-04f0d5d4615a>\u001b[0m in \u001b[0;36mimreg\u001b[0;34m(sd_data2, se_data2)\u001b[0m\n\u001b[1;32m     32\u001b[0m     \u001b[0;31m# for m in methods:\u001b[0m\u001b[0;34m\u001b[0m\u001b[0;34m\u001b[0m\u001b[0m\n\u001b[1;32m     33\u001b[0m     \u001b[0mmethod\u001b[0m\u001b[0;34m=\u001b[0m\u001b[0meval\u001b[0m\u001b[0;34m(\u001b[0m\u001b[0mm\u001b[0m\u001b[0;34m)\u001b[0m\u001b[0;34m\u001b[0m\u001b[0m\n\u001b[0;32m---> 34\u001b[0;31m     \u001b[0mres\u001b[0m \u001b[0;34m=\u001b[0m \u001b[0mcv2\u001b[0m\u001b[0;34m.\u001b[0m\u001b[0mmatchTemplate\u001b[0m\u001b[0;34m(\u001b[0m\u001b[0mim2\u001b[0m\u001b[0;34m,\u001b[0m \u001b[0mim1\u001b[0m\u001b[0;34m,\u001b[0m \u001b[0mmethod\u001b[0m\u001b[0;34m)\u001b[0m\u001b[0;34m\u001b[0m\u001b[0m\n\u001b[0m\u001b[1;32m     35\u001b[0m     \u001b[0mmin_val\u001b[0m\u001b[0;34m,\u001b[0m \u001b[0mmax_val\u001b[0m\u001b[0;34m,\u001b[0m \u001b[0mmin_loc\u001b[0m\u001b[0;34m,\u001b[0m \u001b[0mmax_loc\u001b[0m \u001b[0;34m=\u001b[0m \u001b[0mcv2\u001b[0m\u001b[0;34m.\u001b[0m\u001b[0mminMaxLoc\u001b[0m\u001b[0;34m(\u001b[0m\u001b[0mres\u001b[0m\u001b[0;34m)\u001b[0m\u001b[0;34m\u001b[0m\u001b[0m\n\u001b[1;32m     36\u001b[0m \u001b[0;34m\u001b[0m\u001b[0m\n",
      "\u001b[0;31merror\u001b[0m: /home/johannes/temptempt/opencv-3/modules/imgproc/src/templmatch.cpp:1088: error: (-215) (depth == CV_8U || depth == CV_32F) && type == _templ.type() && _img.dims() <= 2 in function matchTemplate\n"
     ]
    }
   ],
   "source": [
    "tl,br = imreg(sd_data, se_data)"
   ]
  },
  {
   "cell_type": "markdown",
   "metadata": {},
   "source": [
    "# Find angle and scalefactor"
   ]
  },
  {
   "cell_type": "markdown",
   "metadata": {},
   "source": [
    "# Scale and rotate images"
   ]
  },
  {
   "cell_type": "markdown",
   "metadata": {},
   "source": [
    "# ImReg"
   ]
  },
  {
   "cell_type": "markdown",
   "metadata": {},
   "source": [
    "# Rotate SD"
   ]
  },
  {
   "cell_type": "markdown",
   "metadata": {},
   "source": [
    "## Connect EDX and SD"
   ]
  },
  {
   "cell_type": "code",
   "execution_count": null,
   "metadata": {
    "collapsed": false
   },
   "outputs": [],
   "source": [
    "plt.close('all')\n",
    "offset = (67,76)\n",
    "sd2.plot(colorbar=False)\n",
    "edx.plot()"
   ]
  },
  {
   "cell_type": "code",
   "execution_count": null,
   "metadata": {
    "collapsed": false
   },
   "outputs": [],
   "source": [
    "sd2.connect(edx, scale, offset)"
   ]
  },
  {
   "cell_type": "markdown",
   "metadata": {},
   "source": [
    "# The other data...."
   ]
  },
  {
   "cell_type": "markdown",
   "metadata": {},
   "source": [
    "## Use survey images instead"
   ]
  },
  {
   "cell_type": "code",
   "execution_count": 122,
   "metadata": {
    "collapsed": false,
    "scrolled": false
   },
   "outputs": [
    {
     "name": "stdout",
     "output_type": "stream",
     "text": [
      "The autoreload extension is already loaded. To reload it, use:\n",
      "  %reload_ext autoreload\n",
      "0 ok\n",
      "1 ok\n",
      "2 ok\n",
      "3 ok\n",
      "4 ok\n",
      "5 ok\n",
      "6 ok\n",
      "7 ok\n",
      "8 ok\n",
      "9 ok\n"
     ]
    },
    {
     "data": {
      "text/plain": [
       "<matplotlib.image.AxesImage at 0x2bbf95079b0>"
      ]
     },
     "execution_count": 122,
     "metadata": {},
     "output_type": "execute_result"
    }
   ],
   "source": [
    "%load_ext autoreload\n",
    "%autoreload 2\n",
    "%matplotlib qt4\n",
    "import matplotlib.pyplot as plt\n",
    "plt.close('all')\n",
    "import numpy as np\n",
    "import cv2\n",
    "from hyperspy import project_routine\n",
    "import hyperspy.api as hs\n",
    "from hyperspy.io_plugins.digital_micrograph import file_reader\n",
    "PATH='../..//Data/160506_SC239_X/'\n",
    "END='_SI Survey Image.dm3'\n",
    "\n",
    "l = ['A','B','C','D','E','F','G','H','I','J']\n",
    "data=[]\n",
    "rects=[]\n",
    "ref='../..//Data/160506_SC239_X/HAADF300k.dm3'\n",
    "for i,a in enumerate(l[:]):\n",
    "#     if a in ['A','B','G','H']:\n",
    "#     if a in ['A','B']:\n",
    "#         continue\n",
    "    ok=False\n",
    "    for g in ['TagGroup0','TagGroup1','TagGroup2','TagGroup3']:\n",
    "        try:\n",
    "            if file_reader(PATH+a+END)[0]['original_metadata']['DocumentObjectList'][\n",
    "'TagGroup0']['AnnotationGroupList'][g]['Name']=='Spectrum Image':\n",
    "                rect = file_reader(PATH+a+END)[0]['original_metadata']['DocumentObjectList']['TagGroup0']['AnnotationGroupList'][g]['Rectangle']\n",
    "                print (i,'ok')\n",
    "                ok=True\n",
    "        except:\n",
    "            pass\n",
    "    if not ok:\n",
    "        print(file_reader(PATH+a+END)[0]['original_metadata']['DocumentObjectList'][\n",
    "'TagGroup0']['AnnotationGroupList'])\n",
    "    data.append(PATH+a+END)\n",
    "    rects.append(rect)\n",
    "tl, br, scale, im, allres  =project_routine.prepare_data(data,ref, rects)\n",
    "\n",
    "mini=0\n",
    "# for val in np.arange(40,70,1):\n",
    "#     mini=0\n",
    "#     print(val)\n",
    "#     tl, br, scale, im,allres  =project_routine.prepare_data(data,ref, rects,val)\n",
    "#     for a in allres:\n",
    "#         mini += np.min(a)\n",
    "#     print(mini)\n",
    "tllist, brlist, scalelist, im,allres  =project_routine.prepare_data(data,ref, rects,68)\n",
    "t=tllist[2]\n",
    "b=brlist[2]\n",
    "plt.figure('only c')\n",
    "imC = im[t[1]:b[1],t[0]:b[0]]\n",
    "plt.imshow(imC)\n",
    "\n",
    "# plt.figure()\n",
    "# im=cv2.cvtColor(im,cv2.COLOR_GRAY2RGB)\n",
    "# for t,b in zip(tllist,brlist):\n",
    "#     cv2.rectangle(im, t,b,(255,0,0),2)\n",
    "# plt.imshow(im,interpolation='none')\n"
   ]
  },
  {
   "cell_type": "code",
   "execution_count": 167,
   "metadata": {
    "collapsed": false
   },
   "outputs": [
    {
     "name": "stdout",
     "output_type": "stream",
     "text": [
      "0.600000019431\n"
     ]
    },
    {
     "data": {
      "text/plain": [
       "<matplotlib.text.Text at 0x2bb82387b70>"
      ]
     },
     "execution_count": 167,
     "metadata": {},
     "output_type": "execute_result"
    }
   ],
   "source": [
    "# sd=hs.load('../../Data/AstartDataJulie/160512_SC239_X_overview_60k.blo')\n",
    "# sdmean=sd.mean(axis=(2,3))\n",
    "# sdrot,se,sc=scale_and_rotate(sd, sdmean, se, hs.load(ref),rot)\n",
    "sdmean.data -=sdmean.data.min()\n",
    "sdrot = rotate((sdmean.data/sdmean.data.max()*255).astype('uint8'), np.rad2deg(rot))\n",
    "plt.close('all')\n",
    "plt.figure('sdrot')\n",
    "scale_sd=sd.axes_manager.as_dictionary()['axis-1']['scale']\n",
    "print(scale)\n",
    "cv2.rectangle(sdrot,tl,br,0,1)\n",
    "plt.imshow(sdrot,extent=[0,sdrot.shape[1]*scale_sd,0,sdrot.shape[0]*scale_sd],interpolation='none')\n",
    "plt.xlabel('nm')\n",
    "plt.ylabel('nm')\n",
    "t=tllist[2]\n",
    "b=brlist[2]\n",
    "plt.figure('only c')\n",
    "imC = im[t[1]:b[1],t[0]:b[0]]\n",
    "scale=scalelist[2]\n",
    "imC = cv2.cvtColor(imC,cv2.COLOR_GRAY2RGB)\n",
    "# imC[:,:,1:]=0\n",
    "plt.imshow(imC,extent=[0,imC.shape[1]*scale,0,imC.shape[0]*scale],interpolation='none',alpha=1)\n",
    "plt.xlabel('nm')\n",
    "plt.ylabel('nm')"
   ]
  },
  {
   "cell_type": "code",
   "execution_count": null,
   "metadata": {
    "collapsed": true
   },
   "outputs": [],
   "source": [
    "# s_img = cv2.imread(\"smaller_image.png\", -1)\n",
    "for c in range(0,3):\n",
    "    l_img[y_offset:y_offset+s_img.shape[0], x_offset:x_offset+s_img.shape[1], c] =  \n",
    "    s_img[:,:,c] * (s_img[:,:,3]/255.0) +  l_img[y_offset:y_offset+s_img.shape[0], x_offset:x_offset+s_img.shape[1], c] * (1.0 - s_img[:,:,3]/255.0)"
   ]
  },
  {
   "cell_type": "code",
   "execution_count": 11,
   "metadata": {
    "collapsed": false
   },
   "outputs": [],
   "source": [
    "plt.interactive(0)\n",
    "plt.ioff()\n",
    "x=['A','B','C','D','E','F','G','H','I','J']\n",
    "plt.close('all')\n",
    "allres=np.array(allres)\n",
    "plt.figure()\n",
    "plt.plot([0,1],100*(1-allres[:2])/(1-allres[2]),'bs',markersize=10)\n",
    "# plt.xticks(np.arange(len(allres[:2])),x[:2])\n",
    "plt.hold(True)\n",
    "plt.plot(np.arange(3,len(allres)),100*(1-allres[3:])/(1-allres[2]),'ro',markersize=10)\n",
    "plt.plot([2],100,'r*',markersize=20)\n",
    "plt.xticks(np.arange(len(allres)),x)\n",
    "plt.xlim([-1,10])\n",
    "plt.ylim([None, None])\n",
    "plt.xlabel('Dataset')\n",
    "plt.ylabel('Percent')\n",
    "plt.show()\n"
   ]
  },
  {
   "cell_type": "code",
   "execution_count": 103,
   "metadata": {
    "collapsed": true
   },
   "outputs": [],
   "source": [
    "plt.close('all')"
   ]
  },
  {
   "cell_type": "code",
   "execution_count": 3,
   "metadata": {
    "collapsed": false,
    "scrolled": false
   },
   "outputs": [
    {
     "name": "stdout",
     "output_type": "stream",
     "text": [
      "The autoreload extension is already loaded. To reload it, use:\n",
      "  %reload_ext autoreload\n",
      "0 ok\n",
      "1 ok\n",
      "2 ok\n",
      "3 ok\n",
      "4 ok\n",
      "5 ok\n",
      "6 ok\n",
      "7 ok\n",
      "8 ok\n"
     ]
    },
    {
     "data": {
      "text/plain": [
       "<matplotlib.image.AxesImage at 0x7fec699b6e48>"
      ]
     },
     "execution_count": 3,
     "metadata": {},
     "output_type": "execute_result"
    }
   ],
   "source": [
    "%load_ext autoreload\n",
    "%autoreload 2\n",
    "%matplotlib qt4\n",
    "import matplotlib.pyplot as plt\n",
    "plt.close('all')\n",
    "import numpy as np\n",
    "from hyperspy import project_routine\n",
    "import hyperspy.api as hs\n",
    "from hyperspy.io_plugins.digital_micrograph import file_reader\n",
    "PATH='../..//Data/unheated/'\n",
    "END='_SI Survey Image.dm3'\n",
    "\n",
    "l = ['A','B','C','D','E','F','G','H','I']\n",
    "data=[]\n",
    "rects=[]\n",
    "ref='../..//Data/unheated/HAADF_300k.dm3'\n",
    "for i,a in enumerate(l[:]):\n",
    "#     if a in ['B','D']:\n",
    "#     if a not in ['A']:\n",
    "#         continue\n",
    "    ok=False\n",
    "    for g in ['TagGroup0','TagGroup1','TagGroup2','TagGroup3']:\n",
    "        try:\n",
    "            if file_reader(PATH+a+END)[0]['original_metadata']['DocumentObjectList'][\n",
    "'TagGroup0']['AnnotationGroupList'][g]['Name']=='Spectrum Image':\n",
    "                rect = file_reader(PATH+a+END)[0]['original_metadata']['DocumentObjectList']['TagGroup0']['AnnotationGroupList'][g]['Rectangle']\n",
    "                print (i,'ok')\n",
    "                ok=True\n",
    "        except:\n",
    "            pass\n",
    "    if not ok:\n",
    "        print(file_reader(PATH+a+END)[0]['original_metadata']['DocumentObjectList'][\n",
    "'TagGroup0']['AnnotationGroupList'])\n",
    "    data.append(PATH+a+END)\n",
    "    rects.append(rect)\n",
    "# mini=0\n",
    "# for val in np.arange(80,90,1):\n",
    "#     mini=0\n",
    "#     print(val)\n",
    "#     tl, br, scale, im,allres  =project_routine.prepare_data(data,ref, rects,val)\n",
    "#     for a in allres:\n",
    "#         mini += np.min(a)\n",
    "#     print(mini)\n",
    "\n",
    "tl, br, scale, im,allres  =project_routine.prepare_data(data,ref, rects,81)\n",
    "\n",
    "\n",
    "# plt.close('all')\n",
    "plt.figure()\n",
    "im=cv2.cvtColor(im,cv2.COLOR_GRAY2RGB)\n",
    "for t,b in zip(tl,br):\n",
    "    cv2.rectangle(im, t,b,(255,0,0),2)\n",
    "\n",
    "plt.imshow(im,interpolation='none')"
   ]
  },
  {
   "cell_type": "code",
   "execution_count": 5,
   "metadata": {
    "collapsed": false
   },
   "outputs": [
    {
     "data": {
      "text/plain": [
       "<matplotlib.text.Text at 0x7fec699d9ef0>"
      ]
     },
     "execution_count": 5,
     "metadata": {},
     "output_type": "execute_result"
    }
   ],
   "source": [
    "x=['A','B','C','D','E','F','G','H','I']\n",
    "# plt.close('all')\n",
    "allres=np.array(allres)\n",
    "plt.figure()\n",
    "a = np.array([allres[1],allres[3]])\n",
    "plt.plot([1,3],100*(1-a)/(1-allres[0]),'bs',markersize=10)\n",
    "# plt.xticks(np.arange(len(allres[:2])),x[:2])\n",
    "plt.hold(True)\n",
    "a = np.array([allres[2],allres[4],allres[5],allres[6],allres[7],allres[8]])\n",
    "plt.plot([2,4,5,6,7,8],100*(1-a)/(1-allres[0]),'ro',markersize=10)\n",
    "plt.plot([0],100,'r*',markersize=20)\n",
    "plt.xticks(np.arange(len(allres)),x)\n",
    "plt.xlim([-1,9])\n",
    "plt.xlabel('Dataset')\n",
    "plt.ylabel('Percent')"
   ]
  },
  {
   "cell_type": "code",
   "execution_count": 82,
   "metadata": {
    "collapsed": false
   },
   "outputs": [
    {
     "data": {
      "text/plain": [
       "<matplotlib.image.AxesImage at 0x7fbfaf403c88>"
      ]
     },
     "execution_count": 82,
     "metadata": {},
     "output_type": "execute_result"
    }
   ],
   "source": [
    "# plt.figure()\n",
    "# im=cv2.cvtColor(im,cv2.COLOR_GRAY2RGB)\n",
    "# for t,b in zip(tl,br):\n",
    "#     cv2.rectangle(im, t,b,(255,0,0),2)\n",
    "\n",
    "plt.imshow(im,interpolation='none')"
   ]
  },
  {
   "cell_type": "code",
   "execution_count": null,
   "metadata": {
    "collapsed": false,
    "scrolled": true
   },
   "outputs": [],
   "source": [
    "print(tl[1])\n",
    "print(br[1])\n",
    "print(scale[1])\n",
    "# se=hs.load('../..//Data/160506_SC239_X/D_EDS Spectrum Image.dm3')\n",
    "# connect(sd2, se, sd_scale*scale[1], tl[1])"
   ]
  },
  {
   "cell_type": "code",
   "execution_count": null,
   "metadata": {
    "collapsed": false
   },
   "outputs": [],
   "source": [
    "print(sd_scale, scale[1])"
   ]
  },
  {
   "cell_type": "code",
   "execution_count": null,
   "metadata": {
    "collapsed": false
   },
   "outputs": [],
   "source": [
    "%matplotlib qt4\n",
    "import hyperspy.api as hs\n",
    "s=hs.load('../../Data/unheated/D_EDS Spectrum Image.dm3')\n",
    "s=s.sum('x').sum('y')\n",
    "fig=plt.figure()\n",
    "s.metadata\n",
    "s.plot()\n",
    "# s.add_elements(['Au'])\n",
    "# s.add_lines()\n",
    "# s.plot(background_windows=[[1,2,5,6]])"
   ]
  },
  {
   "cell_type": "code",
   "execution_count": null,
   "metadata": {
    "collapsed": false
   },
   "outputs": [],
   "source": [
    "import matplotlib.pyplot as plt\n",
    "plt.close('all')"
   ]
  },
  {
   "cell_type": "code",
   "execution_count": null,
   "metadata": {
    "collapsed": true
   },
   "outputs": [],
   "source": [
    "import hyperspy as h\n",
    "h.io_plugins.digital_micrograph.file_reader"
   ]
  },
  {
   "cell_type": "markdown",
   "metadata": {},
   "source": [
    "# Old functions"
   ]
  },
  {
   "cell_type": "code",
   "execution_count": null,
   "metadata": {
    "collapsed": false
   },
   "outputs": [],
   "source": [
    "edx.plot()\n",
    "sd2.connect(edx, scale,offset)\n",
    "sd2.axes_manager.navigation_axes"
   ]
  },
  {
   "cell_type": "code",
   "execution_count": null,
   "metadata": {
    "collapsed": false
   },
   "outputs": [],
   "source": [
    "fname_diff=\"../../Data/AstartDataJulie/160512_SC239_X_overview_60k.blo\"\n",
    "fname_crop = \"../../Data/AstartDataJulie/diff-contact.blo\"\n",
    "fname_smallgrains = \"../../Data/160309JulieContact/SmallGrains_EDS Spectrum Image.dm3\"\n",
    "fname_nwcorner = \"../../Data/160309JulieContact/NWcorner_EDS Spectrum Image.dm3\"\n",
    "fname_nwcontact = \"../../Data/160309JulieContact/NWcontact_EDS Spectrum Image.dm3\"\n",
    "fname_contact='../../Data/160309JulieContact/contact_EDS Spectrum Image.dm3'\n",
    "\n",
    "#USE HAADF, NOT BFTEM\n",
    "fname_overview='../../Data/160309JulieContact/BFTEM_overview.dm3'\n",
    "fname_haadf1=   '../../Data/160309JulieContact/HAADF_250k_3C.dm3'\n",
    "fname_haadf2=   '../../Data/160309JulieContact/HAADF_250k_8C.dm3'\n",
    "fname_haadf3=   '../../Data/160309JulieContact/HAADF_500k_8C.dm3'"
   ]
  },
  {
   "cell_type": "code",
   "execution_count": null,
   "metadata": {
    "collapsed": false
   },
   "outputs": [],
   "source": [
    "import hyperspy.api as hs\n",
    "e0=hs.load(fname_haadf1)\n",
    "e1=hs.load(fname_nwcontact)\n",
    "e2=hs.load(fname_nwcorner)\n",
    "e3 =hs.load(fname_smallgrains)\n",
    "e4 = hs.load(fname_contact)\n",
    "e1d=e1.data.mean(axis=2)\n",
    "e2d=e2.data.mean(axis=2)\n",
    "e3d = e3.data.mean(axis=2)\n",
    "e4d = e4.data.mean(axis=2)"
   ]
  },
  {
   "cell_type": "code",
   "execution_count": null,
   "metadata": {
    "collapsed": false
   },
   "outputs": [],
   "source": [
    "e0s = e0.axes_manager.as_dictionary()['axis-1']['scale']\n",
    "e1s = e1.axes_manager.as_dictionary()['axis-1']['scale']*1000\n",
    "e2s = e2.axes_manager.as_dictionary()['axis-1']['scale']\n",
    "e3s = e3.axes_manager.as_dictionary()['axis-1']['scale']\n",
    "e4s = e4.axes_manager.as_dictionary()['axis-1']['scale']*1000"
   ]
  },
  {
   "cell_type": "code",
   "execution_count": null,
   "metadata": {
    "collapsed": false
   },
   "outputs": [],
   "source": [
    "e1dr = rescale(e1d, e1s/e0s)\n",
    "e2dr = rescale(e2d, e2s/e0s)\n",
    "e3dr = rescale(e3d, e3s/e0s)\n",
    "e4dr = rescale(e4d, e4s/e0s)\n",
    "# plt.imshow(e1dr)\n",
    "# plt.show()"
   ]
  },
  {
   "cell_type": "code",
   "execution_count": null,
   "metadata": {
    "collapsed": false
   },
   "outputs": [],
   "source": [
    "e1dr -= e1dr.min()\n",
    "e1dr = (e1dr/e1dr.max()*255).astype('uint8')\n",
    "e2dr -= e2dr.min()\n",
    "e2dr = (e2dr/e2dr.max()*255).astype('uint8')\n",
    "e3dr -= e3dr.min()\n",
    "e3dr = (e3dr/e3dr.max()*255).astype('uint8')\n",
    "e4dr -= e4dr.min()\n",
    "e4dr = (e4dr/e4dr.max()*255).astype('uint8')\n",
    "e0d=e0.data\n",
    "e0d -=e0d.min()\n",
    "e0d = (e0d/e0d.max()*255).astype('uint8')\n",
    "# plt.figure()\n",
    "# plt.imshow(e2dr)\n",
    "# plt.show()"
   ]
  },
  {
   "cell_type": "code",
   "execution_count": null,
   "metadata": {
    "collapsed": false
   },
   "outputs": [],
   "source": [
    "e0 = hs.load(fname_haadf1)\n",
    "e0d=e0.data\n",
    "e0d -=e0d.min()\n",
    "e0d = (e0d/e0d.max()*255).astype('uint8')\n",
    "im2 = e0d\n",
    "for e in [e1dr, e2dr, e3dr, e4dr]:\n",
    "    project_routine.imreg(e, im2, show=True, name='1')\n",
    "#     newpos = project_routine.imreg(e4dr, im2)\n",
    "\n",
    "offset = (67,76)"
   ]
  },
  {
   "cell_type": "code",
   "execution_count": null,
   "metadata": {
    "collapsed": false
   },
   "outputs": [],
   "source": [
    "# plt.close('all')\n",
    "e4.plot()\n",
    "\n",
    "top_left, bottom_right = newpos\n",
    "tlref,brref            = refpos\n",
    "scale=e0s/sd_scale\n",
    "\n",
    "tl1 = int(offset[0]+(top_left[0]-tlref[0])*scale)\n",
    "tl2 = int(offset[1]+(top_left[1]-tlref[1])*scale)\n",
    "tl = (tl1,tl2)\n",
    "\n",
    "br = (tl[0]+int((bottom_right[0]-top_left[0])*scale),tl[1]+int((bottom_right[1]-top_left[1])*scale))\n",
    "\n",
    "# cv2.rectangle(sd_data2,tl, br, 255, 1)\n",
    "\n",
    "plt.figure(); plt.imshow(sd_data2)"
   ]
  },
  {
   "cell_type": "code",
   "execution_count": null,
   "metadata": {
    "collapsed": false
   },
   "outputs": [],
   "source": [
    "e4_offset = project_routine.find_offset(e0d, e1dr, e4dr, e0s/sd_scale, (67,76))\n",
    "print(e4_offset)"
   ]
  },
  {
   "cell_type": "code",
   "execution_count": null,
   "metadata": {
    "collapsed": false
   },
   "outputs": [],
   "source": [
    "sd2.plot()\n",
    "e4.plot()"
   ]
  },
  {
   "cell_type": "code",
   "execution_count": null,
   "metadata": {
    "collapsed": false,
    "scrolled": true
   },
   "outputs": [],
   "source": [
    "sd2.connect(e4, e4s/sd_scale, e4_offset[0])"
   ]
  },
  {
   "cell_type": "code",
   "execution_count": null,
   "metadata": {
    "collapsed": true
   },
   "outputs": [],
   "source": [
    "se = hs.load(\"../../Data/160309JulieContact/NWcontact_EDS Spectrum Image.dm3\")"
   ]
  },
  {
   "cell_type": "code",
   "execution_count": null,
   "metadata": {
    "collapsed": true
   },
   "outputs": [],
   "source": []
  }
 ],
 "metadata": {
  "anaconda-cloud": {},
  "kernelspec": {
   "display_name": "Python [default]",
   "language": "python",
   "name": "python3"
  },
  "language_info": {
   "codemirror_mode": {
    "name": "ipython",
    "version": 3
   },
   "file_extension": ".py",
   "mimetype": "text/x-python",
   "name": "python",
   "nbconvert_exporter": "python",
   "pygments_lexer": "ipython3",
   "version": "3.5.2"
  }
 },
 "nbformat": 4,
 "nbformat_minor": 1
}
